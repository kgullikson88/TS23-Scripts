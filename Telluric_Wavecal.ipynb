{
 "cells": [
  {
   "cell_type": "markdown",
   "metadata": {},
   "source": [
    "# Needed for consistently measuring RVs.\n",
    "To consistently measure the RVs of my target stars, I need to align them with the telluric lines. That is because I took no effort to make sure they are consistent by e.g. observing an RV standard or something. I have a decent amount of code already written for the IGRINS pipeline, so lets just re-use that.\n",
    "\n",
    "## Status as of end of day Thusday, Sep 3:\n",
    "  - Seems to work. Need to go through and apply to all of my stars I guess?\n",
    "  - How stable is the rv fit?\n",
    "  - Is it the same for all echi files that go into the final ones?\n",
    "  - Need to keep track of the velocity changes to include in the companion velocities (or just re-run the ccf analysis on the new files)"
   ]
  },
  {
   "cell_type": "code",
   "execution_count": 8,
   "metadata": {
    "collapsed": false
   },
   "outputs": [],
   "source": [
    "import sys\n",
    "import os\n",
    "import numpy as np\n",
    "import matplotlib.pyplot as plt\n",
    "import HelperFunctions\n",
    "import telfit\n",
    "from scipy.interpolate import InterpolatedUnivariateSpline as spline\n",
    "import FittingUtilities\n",
    "from scipy.optimize import minimize\n",
    "from functools import partial\n",
    "import Telluric_Wavecal\n",
    "import logging\n",
    "\n",
    "logger = logging.getLogger()\n",
    "logger.setLevel(logging.INFO)\n",
    "home = os.environ['HOME']\n",
    "#sys.path.append('{}/School/Research/IGRINS_data/plp/recipes/'.format(home))\n",
    "#import recipe_tell_wvsol\n",
    "\n",
    "%matplotlib inline"
   ]
  },
  {
   "cell_type": "code",
   "execution_count": null,
   "metadata": {
    "collapsed": false
   },
   "outputs": [],
   "source": [
    "with open('../starlist_20151016', 'r') as f:\n",
    "    fnames = ['../{}'.format(fn).strip() for fn in f.readlines()]"
   ]
  },
  {
   "cell_type": "code",
   "execution_count": null,
   "metadata": {
    "collapsed": false
   },
   "outputs": [],
   "source": [
    "fname = fnames[0]\n",
    "o2_fitter = Telluric_Wavecal.VelocityFitter(fname, tell_orders=(690, 765))\n",
    "h2o_fitter = Telluric_Wavecal.VelocityFitter(fname, tell_orders=(700., 715., 725., 735.))\n",
    "\n",
    "print('O2 Fit:\\n================')\n",
    "o2_rv, o2_rv_err = o2_fitter.fit()\n",
    "print('\\n\\nH2O Fit:\\n===============')\n",
    "h2o_rv, h2o_rv_err = h2o_fitter.fit()"
   ]
  },
  {
   "cell_type": "code",
   "execution_count": 7,
   "metadata": {
    "collapsed": false
   },
   "outputs": [
    {
     "name": "stdout",
     "output_type": "stream",
     "text": [
      "(-0.15427331607709174, 0.0045378657711410419)\n",
      "(0.04757441906822106, 0.0035891945638753826)\n"
     ]
    }
   ],
   "source": [
    "print(o2_rv, o2_rv_err)\n",
    "print(h2o_rv, h2o_rv_err)"
   ]
  },
  {
   "cell_type": "code",
   "execution_count": 12,
   "metadata": {
    "collapsed": false
   },
   "outputs": [
    {
     "data": {
      "text/plain": [
       "[<matplotlib.lines.Line2D at 0x7fb896260190>]"
      ]
     },
     "execution_count": 12,
     "metadata": {},
     "output_type": "execute_result"
    },
    {
     "data": {
      "image/png": "[encoded data removed]",
      "text/plain": [
       "<matplotlib.figure.Figure at 0x7fb896401b10>"
      ]
     },
     "metadata": {},
     "output_type": "display_data"
    }
   ],
   "source": [
    "import telfit\n",
    "modeler = telfit.Modeler()\n",
    "full_model = modeler.MakeModel(highfreq=1e7/680.0, lowfreq=1e7/780.0)\n",
    "plt.plot(full_model.x, full_model.y)"
   ]
  },
  {
   "cell_type": "code",
   "execution_count": null,
   "metadata": {
    "collapsed": false
   },
   "outputs": [],
   "source": [
    "with open('telluric_wavecal_summary.csv', 'w') as f:\n",
    "    f.write('filename,o2_rv,o2_rv_err,h2o_rv,h2o_rv_err\\n')\n",
    "\n",
    "for i, fname in enumerate(fnames):\n",
    "    print('File {}/{}: {}'.format(i+1, len(fnames), fname))\n",
    "    o2_fitter = Telluric_Wavecal.VelocityFitter(fname, tell_orders=(690, 765), telluric_model=full_model)\n",
    "    h2o_fitter = Telluric_Wavecal.VelocityFitter(fname, tell_orders=(700., 715., 725., 735.), telluric_model=full_model)\n",
    "    \n",
    "    print('O2 Fit:\\n================')\n",
    "    o2_rv, o2_rv_err = o2_fitter.fit()\n",
    "    print('\\n\\nH2O Fit:\\n===============')\n",
    "    h2o_rv, h2o_rv_err = h2o_fitter.fit()\n",
    "    \n",
    "    with open('telluric_wavecal_summary.csv', 'a') as f:\n",
    "        f.write('{},{},{},{},{}\\n'.format(fname, o2_rv, o2_rv_err, h2o_rv, h2o_rv_err))"
   ]
  },
  {
   "cell_type": "code",
   "execution_count": 15,
   "metadata": {
    "collapsed": false
   },
   "outputs": [
    {
     "data": {
      "text/plain": [
       "<matplotlib.axes._subplots.AxesSubplot at 0x7fb896851a90>"
      ]
     },
     "execution_count": 15,
     "metadata": {},
     "output_type": "execute_result"
    },
    {
     "data": {
      "image/png": "[encoded data removed]",
      "text/plain": [
       "<matplotlib.figure.Figure at 0x7fb896449690>"
      ]
     },
     "metadata": {},
     "output_type": "display_data"
    }
   ],
   "source": [
    "import pandas as pd\n",
    "df = pd.read_csv('telluric_wavecal_summary.csv')\n",
    "df.o2_rv.hist(bins=30)"
   ]
  },
  {
   "cell_type": "code",
   "execution_count": 17,
   "metadata": {
    "collapsed": false
   },
   "outputs": [
    {
     "data": {
      "text/plain": [
       "<matplotlib.axes._subplots.AxesSubplot at 0x7fb89662a390>"
      ]
     },
     "execution_count": 17,
     "metadata": {},
     "output_type": "execute_result"
    },
    {
     "data": {
      "image/png": "[encoded data removed]",
      "text/plain": [
       "<matplotlib.figure.Figure at 0x7fb89637a690>"
      ]
     },
     "metadata": {},
     "output_type": "display_data"
    }
   ],
   "source": [
    "df.h2o_rv.hist(bins=20)"
   ]
  },
  {
   "cell_type": "code",
   "execution_count": 25,
   "metadata": {
    "collapsed": false
   },
   "outputs": [
    {
     "data": {
      "text/plain": [
       "[<matplotlib.lines.Line2D at 0x7fb896294ad0>]"
      ]
     },
     "execution_count": 25,
     "metadata": {},
     "output_type": "execute_result"
    },
    {
     "data": {
      "image/png": "[encoded data removed]",
      "text/plain": [
       "<matplotlib.figure.Figure at 0x7fb89653f350>"
      ]
     },
     "metadata": {},
     "output_type": "display_data"
    }
   ],
   "source": [
    "import scipy.stats\n",
    "values = df.h2o_rv\n",
    "loc, scale = scipy.stats.norm.fit(data=values[~np.isnan(values)])\n",
    "df.h2o_rv.hist(bins=10, normed=True, alpha=0.4)\n",
    "x = np.arange(-0.2, 0.3, 0.01)\n",
    "y = scipy.stats.norm.pdf(x, loc=loc, scale=scale)\n",
    "plt.plot(x, y, 'r-', lw=2)"
   ]
  },
  {
   "cell_type": "code",
   "execution_count": 23,
   "metadata": {
    "collapsed": false
   },
   "outputs": [
    {
     "data": {
      "text/plain": [
       "array([ 0.00208537])"
      ]
     },
     "execution_count": 23,
     "metadata": {},
     "output_type": "execute_result"
    }
   ],
   "source": [
    "y"
   ]
  }
 ],
 "metadata": {
  "kernelspec": {
   "display_name": "Python 2",
   "language": "python",
   "name": "python2"
  },
  "language_info": {
   "codemirror_mode": {
    "name": "ipython",
    "version": 2
   },
   "file_extension": ".py",
   "mimetype": "text/x-python",
   "name": "python",
   "nbconvert_exporter": "python",
   "pygments_lexer": "ipython2",
   "version": "2.7.10"
  }
 },
 "nbformat": 4,
 "nbformat_minor": 0
}
