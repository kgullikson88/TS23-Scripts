{
 "cells": [
  {
   "cell_type": "markdown",
   "metadata": {},
   "source": [
    "# Needed for consistently measuring RVs.\n",
    "To consistently measure the RVs of my target stars, I need to align them with the telluric lines. That is because I took no effort to make sure they are consistent by e.g. observing an RV standard or something. I have a decent amount of code already written for the IGRINS pipeline, so lets just re-use that.\n",
    "\n",
    "## Status as of end of day Thusday, Sep 3:\n",
    "  - Seems to work. Need to go through and apply to all of my stars I guess?\n",
    "  - How stable is the rv fit?\n",
    "  - Is it the same for all echi files that go into the final ones?\n",
    "  - Need to keep track of the velocity changes to include in the companion velocities (or just re-run the ccf analysis on the new files)"
   ]
  },
  {
   "cell_type": "code",
   "execution_count": 1,
   "metadata": {
    "collapsed": false
   },
   "outputs": [
    {
     "name": "stderr",
     "output_type": "stream",
     "text": [
      "/home/kgullikson/anaconda3/envs/python2/lib/python2.7/site-packages/IPython/html.py:14: ShimWarning: The `IPython.html` package has been deprecated. You should import from `notebook` instead. `IPython.html.widgets` has moved to `ipywidgets`.\n",
      "  \"`IPython.html.widgets` has moved to `ipywidgets`.\", ShimWarning)\n"
     ]
    }
   ],
   "source": [
    "import sys\n",
    "import os\n",
    "import numpy as np\n",
    "import matplotlib.pyplot as plt\n",
    "import HelperFunctions\n",
    "import telfit\n",
    "from scipy.interpolate import InterpolatedUnivariateSpline as spline\n",
    "import FittingUtilities\n",
    "from scipy.optimize import minimize\n",
    "from functools import partial\n",
    "import Telluric_Wavecal\n",
    "import logging\n",
    "\n",
    "logger = logging.getLogger()\n",
    "logger.setLevel(logging.INFO)\n",
    "home = os.environ['HOME']\n",
    "#sys.path.append('{}/School/Research/IGRINS_data/plp/recipes/'.format(home))\n",
    "#import recipe_tell_wvsol\n",
    "\n",
    "%matplotlib inline"
   ]
  },
  {
   "cell_type": "code",
   "execution_count": 2,
   "metadata": {
    "collapsed": false
   },
   "outputs": [],
   "source": [
    "with open('../starlist_20151013', 'r') as f:\n",
    "    fnames = ['../{}'.format(fn).strip() for fn in f.readlines()]"
   ]
  },
  {
   "cell_type": "code",
   "execution_count": 3,
   "metadata": {
    "collapsed": false
   },
   "outputs": [
    {
     "name": "stdout",
     "output_type": "stream",
     "text": [
      "Warning, 139 of 94568 bins contained negative fluxes; they have been set to zero.\n",
      "O2 Fit:\n",
      "================"
     ]
    },
    {
     "name": "stderr",
     "output_type": "stream",
     "text": [
      "INFO:root:RV = -0.68 +/- 0.059\n"
     ]
    },
    {
     "name": "stdout",
     "output_type": "stream",
     "text": [
      "\n",
      "\n",
      "\n",
      "H2O Fit:\n",
      "==============="
     ]
    },
    {
     "name": "stderr",
     "output_type": "stream",
     "text": [
      "INFO:root:RV = -0.36 +/- 0.070\n"
     ]
    },
    {
     "name": "stdout",
     "output_type": "stream",
     "text": [
      "\n"
     ]
    }
   ],
   "source": [
    "fname = fnames[-1]\n",
    "reload(Telluric_Wavecal)\n",
    "o2_fitter = Telluric_Wavecal.VelocityFitter(fname, tell_orders=(690, ))\n",
    "h2o_fitter = Telluric_Wavecal.VelocityFitter(fname, tell_orders=(700., 715., 730.))\n",
    "\n",
    "print('O2 Fit:\\n================')\n",
    "o2_rv, o2_rv_err = o2_fitter.fit()\n",
    "print('\\n\\nH2O Fit:\\n===============')\n",
    "h2o_rv, h2o_rv_err = h2o_fitter.fit()"
   ]
  },
  {
   "cell_type": "code",
   "execution_count": 4,
   "metadata": {
    "collapsed": false
   },
   "outputs": [
    {
     "data": {
      "text/plain": [
       "(690.47, 690.55)"
      ]
     },
     "execution_count": 4,
     "metadata": {},
     "output_type": "execute_result"
    },
    {
     "data": {
      "image/png": "[encoded data removed]",
      "text/plain": [
       "<matplotlib.figure.Figure at 0x7f4086bb1e90>"
      ]
     },
     "metadata": {},
     "output_type": "display_data"
    }
   ],
   "source": [
    "data = o2_fitter.data['KG15164-0.fits']\n",
    "pars = o2_fitter._fit_one_file(data, )\n",
    "rv = pars['rv'].value\n",
    "alpha = pars['alpha'].value\n",
    "\n",
    "telluric = partial(o2_fitter.new_telluric, o2_fitter.telluric_model, alpha)\n",
    "\n",
    "%matplotlib inline\n",
    "for order in data:\n",
    "    x = order.x*(1+rv/Telluric_Wavecal.C_LIGHT)\n",
    "    plt.plot(order.x, order.y/order.cont, 'k-', alpha=0.4)\n",
    "    plt.plot(order.x, telluric(x), 'r-', alpha=0.6)\n",
    "#plt.xlim((690.35, 690.6))\n",
    "plt.xlim((690.47, 690.55))"
   ]
  },
  {
   "cell_type": "code",
   "execution_count": 10,
   "metadata": {
    "collapsed": false
   },
   "outputs": [
    {
     "data": {
      "text/plain": [
       "(720.6, 720.7)"
      ]
     },
     "execution_count": 10,
     "metadata": {},
     "output_type": "execute_result"
    },
    {
     "data": {
      "image/png": "[encoded data removed]",
      "text/plain": [
       "<matplotlib.figure.Figure at 0x7f4080e464d0>"
      ]
     },
     "metadata": {},
     "output_type": "display_data"
    }
   ],
   "source": [
    "data = h2o_fitter.data['KG15164-0.fits']\n",
    "pars = h2o_fitter._fit_one_file(data, )\n",
    "rv = pars['rv'].value\n",
    "alpha = pars['alpha'].value\n",
    "\n",
    "telluric = partial(h2o_fitter.new_telluric, h2o_fitter.telluric_model, alpha)\n",
    "\n",
    "%matplotlib inline\n",
    "for order in data:\n",
    "    x = order.x#*(1+rv/Telluric_Wavecal.C_LIGHT)\n",
    "    plt.plot(order.x*(1+rv/Telluric_Wavecal.C_LIGHT), order.y/order.cont, 'k-', alpha=0.4)\n",
    "    plt.plot(order.x, telluric(x), 'r-', alpha=0.6)\n",
    "plt.xlim((720.6, 720.7))"
   ]
  },
  {
   "cell_type": "code",
   "execution_count": 30,
   "metadata": {
    "collapsed": false
   },
   "outputs": [
    {
     "data": {
      "text/plain": [
       "[<matplotlib.lines.Line2D at 0x7fcfe23db7d0>]"
      ]
     },
     "execution_count": 30,
     "metadata": {},
     "output_type": "execute_result"
    },
    {
     "data": {
      "image/png": "[encoded data removed]",
      "text/plain": [
       "<matplotlib.figure.Figure at 0x7fcfe250d250>"
      ]
     },
     "metadata": {},
     "output_type": "display_data"
    }
   ],
   "source": [
    "import telfit\n",
    "modeler = telfit.Modeler()\n",
    "full_model = modeler.MakeModel(highfreq=1e7/680.0, lowfreq=1e7/780.0)\n",
    "plt.plot(full_model.x, full_model.y)"
   ]
  },
  {
   "cell_type": "code",
   "execution_count": 33,
   "metadata": {
    "collapsed": false
   },
   "outputs": [
    {
     "name": "stdout",
     "output_type": "stream",
     "text": [
      "File 1/120: ../20130106/HIP_28691.fits\n",
      "Warning, 1337 of 684208 bins contained negative fluxes; they have been set to zero.\n",
      "Warning, 1337 of 684208 bins contained negative fluxes; they have been set to zero.\n",
      "O2 Fit:\n",
      "================"
     ]
    },
    {
     "name": "stderr",
     "output_type": "stream",
     "text": [
      "INFO:root:RV = -0.81 +/- 0.259\n"
     ]
    },
    {
     "name": "stdout",
     "output_type": "stream",
     "text": [
      "\n",
      "\n",
      "\n",
      "H2O Fit:\n",
      "==============="
     ]
    },
    {
     "name": "stderr",
     "output_type": "stream",
     "text": [
      "INFO:root:RV = -0.56 +/- 0.172\n"
     ]
    },
    {
     "name": "stdout",
     "output_type": "stream",
     "text": [
      "\n",
      "File 2/120: ../20130107/HIP_16147.fits\n",
      "Warning, 1337 of 684208 bins contained negative fluxes; they have been set to zero.\n",
      "Warning, 1337 of 684208 bins contained negative fluxes; they have been set to zero.\n",
      "O2 Fit:\n",
      "================"
     ]
    },
    {
     "name": "stderr",
     "output_type": "stream",
     "text": [
      "INFO:root:RV = -0.37 +/- 0.031\n"
     ]
    },
    {
     "name": "stdout",
     "output_type": "stream",
     "text": [
      "\n",
      "\n",
      "\n",
      "H2O Fit:\n",
      "==============="
     ]
    },
    {
     "name": "stderr",
     "output_type": "stream",
     "text": [
      "INFO:root:RV = -0.10 +/- 0.026\n"
     ]
    },
    {
     "name": "stdout",
     "output_type": "stream",
     "text": [
      "\n",
      "File 3/120: ../20130107/HIP_18724.fits\n",
      "Warning, 1337 of 684208 bins contained negative fluxes; they have been set to zero.\n",
      "Warning, 1337 of 684208 bins contained negative fluxes; they have been set to zero.\n",
      "O2 Fit:\n",
      "================"
     ]
    },
    {
     "name": "stderr",
     "output_type": "stream",
     "text": [
      "INFO:root:RV = -0.32 +/- 0.140\n"
     ]
    },
    {
     "name": "stdout",
     "output_type": "stream",
     "text": [
      "\n",
      "\n",
      "\n",
      "H2O Fit:\n",
      "==============="
     ]
    },
    {
     "name": "stderr",
     "output_type": "stream",
     "text": [
      "INFO:root:RV = -0.24 +/- 0.089\n"
     ]
    },
    {
     "name": "stdout",
     "output_type": "stream",
     "text": [
      "\n",
      "File 4/120: ../20130107/HIP_25048.fits\n",
      "Warning, 1337 of 684208 bins contained negative fluxes; they have been set to zero.\n",
      "Warning, 1337 of 684208 bins contained negative fluxes; they have been set to zero.\n",
      "O2 Fit:\n",
      "================"
     ]
    },
    {
     "name": "stderr",
     "output_type": "stream",
     "text": [
      "INFO:root:RV = -0.58 +/- 0.061\n"
     ]
    },
    {
     "name": "stdout",
     "output_type": "stream",
     "text": [
      "\n",
      "\n",
      "\n",
      "H2O Fit:\n",
      "==============="
     ]
    },
    {
     "name": "stderr",
     "output_type": "stream",
     "text": [
      "INFO:root:RV = -0.35 +/- 0.061\n"
     ]
    },
    {
     "name": "stdout",
     "output_type": "stream",
     "text": [
      "\n",
      "File 5/120: ../20130107/HIP_25281.fits\n",
      "Warning, 1337 of 684208 bins contained negative fluxes; they have been set to zero.\n",
      "Warning, 1337 of 684208 bins contained negative fluxes; they have been set to zero.\n",
      "O2 Fit:\n",
      "================"
     ]
    },
    {
     "name": "stderr",
     "output_type": "stream",
     "text": [
      "INFO:root:RV = -0.73 +/- 0.132\n"
     ]
    },
    {
     "name": "stdout",
     "output_type": "stream",
     "text": [
      "\n",
      "\n",
      "\n",
      "H2O Fit:\n",
      "==============="
     ]
    },
    {
     "name": "stderr",
     "output_type": "stream",
     "text": [
      "INFO:root:RV = -0.59 +/- 0.061\n"
     ]
    },
    {
     "name": "stdout",
     "output_type": "stream",
     "text": [
      "\n",
      "File 6/120: ../20130107/HIP_3300.fits\n",
      "Warning, 1337 of 684208 bins contained negative fluxes; they have been set to zero.\n",
      "Warning, 1337 of 684208 bins contained negative fluxes; they have been set to zero.\n",
      "O2 Fit:\n",
      "================"
     ]
    },
    {
     "name": "stderr",
     "output_type": "stream",
     "text": [
      "INFO:root:RV = -0.06 +/- 0.291\n"
     ]
    },
    {
     "name": "stdout",
     "output_type": "stream",
     "text": [
      "\n",
      "\n",
      "\n",
      "H2O Fit:\n",
      "==============="
     ]
    },
    {
     "name": "stderr",
     "output_type": "stream",
     "text": [
      "INFO:root:RV = -0.07 +/- 0.139\n"
     ]
    },
    {
     "name": "stdout",
     "output_type": "stream",
     "text": [
      "\n",
      "File 7/120: ../20130107/HIP_45688.fits\n",
      "Warning, 1337 of 684208 bins contained negative fluxes; they have been set to zero.\n",
      "Warning, 1337 of 684208 bins contained negative fluxes; they have been set to zero.\n",
      "O2 Fit:\n",
      "================"
     ]
    },
    {
     "name": "stderr",
     "output_type": "stream",
     "text": [
      "INFO:root:RV = -0.63 +/- 0.124\n"
     ]
    },
    {
     "name": "stdout",
     "output_type": "stream",
     "text": [
      "\n",
      "\n",
      "\n",
      "H2O Fit:\n",
      "==============="
     ]
    },
    {
     "name": "stderr",
     "output_type": "stream",
     "text": [
      "INFO:root:RV = -0.44 +/- 0.046\n"
     ]
    },
    {
     "name": "stdout",
     "output_type": "stream",
     "text": [
      "\n",
      "File 8/120: ../20130107/HIP_55266.fits\n",
      "Warning, 1337 of 684208 bins contained negative fluxes; they have been set to zero.\n",
      "Warning, 1337 of 684208 bins contained negative fluxes; they have been set to zero.\n",
      "O2 Fit:\n",
      "================"
     ]
    },
    {
     "name": "stderr",
     "output_type": "stream",
     "text": [
      "INFO:root:RV = -0.72 +/- nan\n",
      "INFO:root:RV = -0.57 +/- nan\n"
     ]
    },
    {
     "name": "stdout",
     "output_type": "stream",
     "text": [
      "\n",
      "\n",
      "\n",
      "H2O Fit:\n",
      "===============\n",
      "File 9/120: ../20130823/HIP_116971.fits\n",
      "Warning, 1337 of 684208 bins contained negative fluxes; they have been set to zero.\n",
      "Warning, 1337 of 684208 bins contained negative fluxes; they have been set to zero.\n",
      "O2 Fit:\n",
      "================"
     ]
    },
    {
     "name": "stderr",
     "output_type": "stream",
     "text": [
      "INFO:root:RV = -0.31 +/- 0.025\n"
     ]
    },
    {
     "name": "stdout",
     "output_type": "stream",
     "text": [
      "\n",
      "\n",
      "\n",
      "H2O Fit:\n",
      "==============="
     ]
    },
    {
     "name": "stderr",
     "output_type": "stream",
     "text": [
      "INFO:root:RV = -0.15 +/- 0.023\n"
     ]
    },
    {
     "name": "stdout",
     "output_type": "stream",
     "text": [
      "\n",
      "File 10/120: ../20130824/HIP_116805.fits\n",
      "Warning, 1337 of 684208 bins contained negative fluxes; they have been set to zero.\n",
      "Warning, 1337 of 684208 bins contained negative fluxes; they have been set to zero.\n",
      "O2 Fit:\n",
      "================"
     ]
    },
    {
     "name": "stderr",
     "output_type": "stream",
     "text": [
      "INFO:root:RV = -0.52 +/- 0.116\n"
     ]
    },
    {
     "name": "stdout",
     "output_type": "stream",
     "text": [
      "\n",
      "\n",
      "\n",
      "H2O Fit:\n",
      "==============="
     ]
    },
    {
     "name": "stderr",
     "output_type": "stream",
     "text": [
      "INFO:root:RV = -0.26 +/- 0.102\n"
     ]
    },
    {
     "name": "stdout",
     "output_type": "stream",
     "text": [
      "\n",
      "File 11/120: ../20131017/HIP_101716.fits\n",
      "Warning, 1337 of 684208 bins contained negative fluxes; they have been set to zero.\n",
      "Warning, 1337 of 684208 bins contained negative fluxes; they have been set to zero.\n",
      "O2 Fit:\n",
      "================"
     ]
    },
    {
     "name": "stderr",
     "output_type": "stream",
     "text": [
      "INFO:root:RV = -0.56 +/- 0.122\n"
     ]
    },
    {
     "name": "stdout",
     "output_type": "stream",
     "text": [
      "\n",
      "\n",
      "\n",
      "H2O Fit:\n",
      "==============="
     ]
    },
    {
     "name": "stderr",
     "output_type": "stream",
     "text": [
      "INFO:root:RV = -0.35 +/- 0.129\n"
     ]
    },
    {
     "name": "stdout",
     "output_type": "stream",
     "text": [
      "\n",
      "File 12/120: ../20131017/HIP_14576.fits\n",
      "Warning, 1337 of 684208 bins contained negative fluxes; they have been set to zero.\n",
      "Warning, 1337 of 684208 bins contained negative fluxes; they have been set to zero.\n",
      "O2 Fit:\n",
      "================"
     ]
    },
    {
     "name": "stderr",
     "output_type": "stream",
     "text": [
      "INFO:root:RV = -0.65 +/- 0.132\n"
     ]
    },
    {
     "name": "stdout",
     "output_type": "stream",
     "text": [
      "\n",
      "\n",
      "\n",
      "H2O Fit:\n",
      "==============="
     ]
    },
    {
     "name": "stderr",
     "output_type": "stream",
     "text": [
      "INFO:root:RV = -0.41 +/- 0.117\n"
     ]
    },
    {
     "name": "stdout",
     "output_type": "stream",
     "text": [
      "\n",
      "File 13/120: ../20131017/HIP_15444.fits\n",
      "Warning, 1337 of 684208 bins contained negative fluxes; they have been set to zero.\n",
      "Warning, 1337 of 684208 bins contained negative fluxes; they have been set to zero.\n",
      "O2 Fit:\n",
      "================"
     ]
    },
    {
     "name": "stderr",
     "output_type": "stream",
     "text": [
      "INFO:root:RV = -0.59 +/- 0.064\n"
     ]
    },
    {
     "name": "stdout",
     "output_type": "stream",
     "text": [
      "\n",
      "\n",
      "\n",
      "H2O Fit:\n",
      "==============="
     ]
    },
    {
     "name": "stderr",
     "output_type": "stream",
     "text": [
      "INFO:root:RV = -0.36 +/- 0.067\n"
     ]
    },
    {
     "name": "stdout",
     "output_type": "stream",
     "text": [
      "\n",
      "File 14/120: ../20131018/HIP_111841.fits\n",
      "Warning, 1337 of 684208 bins contained negative fluxes; they have been set to zero.\n",
      "Warning, 1337 of 684208 bins contained negative fluxes; they have been set to zero.\n",
      "O2 Fit:\n",
      "================"
     ]
    },
    {
     "name": "stderr",
     "output_type": "stream",
     "text": [
      "INFO:root:RV = -0.67 +/- 0.039\n"
     ]
    },
    {
     "name": "stdout",
     "output_type": "stream",
     "text": [
      "\n",
      "\n",
      "\n",
      "H2O Fit:\n",
      "==============="
     ]
    },
    {
     "name": "stderr",
     "output_type": "stream",
     "text": [
      "INFO:root:RV = -0.44 +/- 0.039\n"
     ]
    },
    {
     "name": "stdout",
     "output_type": "stream",
     "text": [
      "\n",
      "File 15/120: ../20131018/HIP_116631.fits\n",
      "Warning, 1337 of 684208 bins contained negative fluxes; they have been set to zero.\n",
      "Warning, 1337 of 684208 bins contained negative fluxes; they have been set to zero.\n",
      "O2 Fit:\n",
      "================"
     ]
    },
    {
     "name": "stderr",
     "output_type": "stream",
     "text": [
      "INFO:root:RV = -0.58 +/- 0.181\n"
     ]
    },
    {
     "name": "stdout",
     "output_type": "stream",
     "text": [
      "\n",
      "\n",
      "\n",
      "H2O Fit:\n",
      "==============="
     ]
    },
    {
     "name": "stderr",
     "output_type": "stream",
     "text": [
      "INFO:root:RV = -0.30 +/- 0.162\n"
     ]
    },
    {
     "name": "stdout",
     "output_type": "stream",
     "text": [
      "\n",
      "File 16/120: ../20131018/HIP_118243.fits\n",
      "Warning, 1337 of 684208 bins contained negative fluxes; they have been set to zero.\n",
      "Warning, 1337 of 684208 bins contained negative fluxes; they have been set to zero.\n",
      "O2 Fit:\n",
      "================"
     ]
    },
    {
     "name": "stderr",
     "output_type": "stream",
     "text": [
      "INFO:root:RV = -1.16 +/- 0.038\n"
     ]
    },
    {
     "name": "stdout",
     "output_type": "stream",
     "text": [
      "\n",
      "\n",
      "\n",
      "H2O Fit:\n",
      "==============="
     ]
    },
    {
     "name": "stderr",
     "output_type": "stream",
     "text": [
      "INFO:root:RV = -0.96 +/- 0.037\n"
     ]
    },
    {
     "name": "stdout",
     "output_type": "stream",
     "text": [
      "\n",
      "File 17/120: ../20131018/HIP_12719.fits\n",
      "Warning, 1337 of 684208 bins contained negative fluxes; they have been set to zero.\n",
      "Warning, 1337 of 684208 bins contained negative fluxes; they have been set to zero.\n",
      "O2 Fit:\n",
      "================"
     ]
    },
    {
     "name": "stderr",
     "output_type": "stream",
     "text": [
      "INFO:root:RV = -0.76 +/- 0.134\n"
     ]
    },
    {
     "name": "stdout",
     "output_type": "stream",
     "text": [
      "\n",
      "\n",
      "\n",
      "H2O Fit:\n",
      "==============="
     ]
    },
    {
     "name": "stderr",
     "output_type": "stream",
     "text": [
      "INFO:root:RV = -0.46 +/- 0.103\n"
     ]
    },
    {
     "name": "stdout",
     "output_type": "stream",
     "text": [
      "\n",
      "File 18/120: ../20131018/HIP_14576.fits\n",
      "Warning, 1337 of 684208 bins contained negative fluxes; they have been set to zero.\n",
      "Warning, 1337 of 684208 bins contained negative fluxes; they have been set to zero.\n",
      "O2 Fit:\n",
      "================"
     ]
    },
    {
     "name": "stderr",
     "output_type": "stream",
     "text": [
      "INFO:root:RV = -0.63 +/- 0.100\n"
     ]
    },
    {
     "name": "stdout",
     "output_type": "stream",
     "text": [
      "\n",
      "\n",
      "\n",
      "H2O Fit:\n",
      "==============="
     ]
    },
    {
     "name": "stderr",
     "output_type": "stream",
     "text": [
      "INFO:root:RV = -0.33 +/- 0.079\n"
     ]
    },
    {
     "name": "stdout",
     "output_type": "stream",
     "text": [
      "\n",
      "File 19/120: ../20131018/HIP_16244.fits\n",
      "Warning, 1337 of 684208 bins contained negative fluxes; they have been set to zero.\n",
      "Warning, 1337 of 684208 bins contained negative fluxes; they have been set to zero.\n",
      "O2 Fit:\n",
      "================"
     ]
    },
    {
     "name": "stderr",
     "output_type": "stream",
     "text": [
      "INFO:root:RV = -0.65 +/- 0.034\n"
     ]
    },
    {
     "name": "stdout",
     "output_type": "stream",
     "text": [
      "\n",
      "\n",
      "\n",
      "H2O Fit:\n",
      "==============="
     ]
    },
    {
     "name": "stderr",
     "output_type": "stream",
     "text": [
      "INFO:root:RV = -0.32 +/- 0.026\n"
     ]
    },
    {
     "name": "stdout",
     "output_type": "stream",
     "text": [
      "\n",
      "File 20/120: ../20131018/HIP_2912.fits\n",
      "Warning, 1337 of 684208 bins contained negative fluxes; they have been set to zero.\n",
      "Warning, 1337 of 684208 bins contained negative fluxes; they have been set to zero.\n",
      "O2 Fit:\n",
      "================"
     ]
    },
    {
     "name": "stderr",
     "output_type": "stream",
     "text": [
      "INFO:root:RV = -0.73 +/- 0.059\n"
     ]
    },
    {
     "name": "stdout",
     "output_type": "stream",
     "text": [
      "\n",
      "\n",
      "\n",
      "H2O Fit:\n",
      "==============="
     ]
    },
    {
     "name": "stderr",
     "output_type": "stream",
     "text": [
      "INFO:root:RV = -0.43 +/- 0.057\n"
     ]
    },
    {
     "name": "stdout",
     "output_type": "stream",
     "text": [
      "\n",
      "File 21/120: ../20131018/HIP_98194.fits\n",
      "Warning, 1337 of 684208 bins contained negative fluxes; they have been set to zero.\n",
      "Warning, 1337 of 684208 bins contained negative fluxes; they have been set to zero.\n",
      "O2 Fit:\n",
      "================"
     ]
    },
    {
     "name": "stderr",
     "output_type": "stream",
     "text": [
      "INFO:root:RV = -0.62 +/- 0.117\n"
     ]
    },
    {
     "name": "stdout",
     "output_type": "stream",
     "text": [
      "\n",
      "\n",
      "\n",
      "H2O Fit:\n",
      "==============="
     ]
    },
    {
     "name": "stderr",
     "output_type": "stream",
     "text": [
      "INFO:root:RV = -0.37 +/- 0.115\n"
     ]
    },
    {
     "name": "stdout",
     "output_type": "stream",
     "text": [
      "\n",
      "File 22/120: ../20131018/HIP_99080.fits\n",
      "Warning, 1337 of 684208 bins contained negative fluxes; they have been set to zero.\n",
      "Warning, 1337 of 684208 bins contained negative fluxes; they have been set to zero.\n",
      "O2 Fit:\n",
      "================"
     ]
    },
    {
     "name": "stderr",
     "output_type": "stream",
     "text": [
      "INFO:root:RV = -0.40 +/- 0.097\n"
     ]
    },
    {
     "name": "stdout",
     "output_type": "stream",
     "text": [
      "\n",
      "\n",
      "\n",
      "H2O Fit:\n",
      "==============="
     ]
    },
    {
     "name": "stderr",
     "output_type": "stream",
     "text": [
      "INFO:root:RV = -0.18 +/- 0.098\n"
     ]
    },
    {
     "name": "stdout",
     "output_type": "stream",
     "text": [
      "\n",
      "File 23/120: ../20131019/HIP_106711.fits\n",
      "Warning, 1337 of 684208 bins contained negative fluxes; they have been set to zero.\n",
      "Warning, 1337 of 684208 bins contained negative fluxes; they have been set to zero.\n",
      "O2 Fit:\n",
      "================"
     ]
    },
    {
     "name": "stderr",
     "output_type": "stream",
     "text": [
      "INFO:root:RV = -0.68 +/- 0.066\n"
     ]
    },
    {
     "name": "stdout",
     "output_type": "stream",
     "text": [
      "\n",
      "\n",
      "\n",
      "H2O Fit:\n",
      "==============="
     ]
    },
    {
     "name": "stderr",
     "output_type": "stream",
     "text": [
      "INFO:root:RV = -0.33 +/- 0.010\n"
     ]
    },
    {
     "name": "stdout",
     "output_type": "stream",
     "text": [
      "\n",
      "File 24/120: ../20131019/HIP_12706.fits\n",
      "Warning, 1337 of 684208 bins contained negative fluxes; they have been set to zero.\n",
      "Warning, 1337 of 684208 bins contained negative fluxes; they have been set to zero.\n",
      "O2 Fit:\n",
      "================"
     ]
    },
    {
     "name": "stderr",
     "output_type": "stream",
     "text": [
      "INFO:root:RV = -0.49 +/- 0.082\n"
     ]
    },
    {
     "name": "stdout",
     "output_type": "stream",
     "text": [
      "\n",
      "\n",
      "\n",
      "H2O Fit:\n",
      "==============="
     ]
    },
    {
     "name": "stderr",
     "output_type": "stream",
     "text": [
      "INFO:root:RV = -0.17 +/- 0.033\n"
     ]
    },
    {
     "name": "stdout",
     "output_type": "stream",
     "text": [
      "\n",
      "File 25/120: ../20131019/HIP_97496.fits\n",
      "Warning, 1337 of 684208 bins contained negative fluxes; they have been set to zero.\n",
      "Warning, 1337 of 684208 bins contained negative fluxes; they have been set to zero.\n",
      "O2 Fit:\n",
      "================"
     ]
    },
    {
     "name": "stderr",
     "output_type": "stream",
     "text": [
      "INFO:root:RV = -1.09 +/- 0.066\n"
     ]
    },
    {
     "name": "stdout",
     "output_type": "stream",
     "text": [
      "\n",
      "\n",
      "\n",
      "H2O Fit:\n",
      "==============="
     ]
    },
    {
     "name": "stderr",
     "output_type": "stream",
     "text": [
      "INFO:root:RV = -0.86 +/- 0.066\n"
     ]
    },
    {
     "name": "stdout",
     "output_type": "stream",
     "text": [
      "\n",
      "File 26/120: ../20131020/HIP_105966.fits\n",
      "Warning, 1337 of 684208 bins contained negative fluxes; they have been set to zero.\n",
      "Warning, 1337 of 684208 bins contained negative fluxes; they have been set to zero.\n",
      "O2 Fit:\n",
      "================"
     ]
    },
    {
     "name": "stderr",
     "output_type": "stream",
     "text": [
      "INFO:root:RV = -0.76 +/- 0.150\n"
     ]
    },
    {
     "name": "stdout",
     "output_type": "stream",
     "text": [
      "\n",
      "\n",
      "\n",
      "H2O Fit:\n",
      "==============="
     ]
    },
    {
     "name": "stderr",
     "output_type": "stream",
     "text": [
      "INFO:root:RV = -0.52 +/- 0.150\n"
     ]
    },
    {
     "name": "stdout",
     "output_type": "stream",
     "text": [
      "\n",
      "File 27/120: ../20131020/HIP_111169.fits\n",
      "Warning, 1337 of 684208 bins contained negative fluxes; they have been set to zero.\n",
      "Warning, 1337 of 684208 bins contained negative fluxes; they have been set to zero.\n",
      "O2 Fit:\n",
      "================"
     ]
    },
    {
     "name": "stderr",
     "output_type": "stream",
     "text": [
      "INFO:root:RV = -0.58 +/- 0.043\n"
     ]
    },
    {
     "name": "stdout",
     "output_type": "stream",
     "text": [
      "\n",
      "\n",
      "\n",
      "H2O Fit:\n",
      "==============="
     ]
    },
    {
     "name": "stderr",
     "output_type": "stream",
     "text": [
      "INFO:root:RV = -0.30 +/- 0.040\n"
     ]
    },
    {
     "name": "stdout",
     "output_type": "stream",
     "text": [
      "\n",
      "File 28/120: ../20131020/HIP_1366.fits\n",
      "Warning, 1337 of 684208 bins contained negative fluxes; they have been set to zero.\n",
      "Warning, 1337 of 684208 bins contained negative fluxes; they have been set to zero.\n",
      "O2 Fit:\n",
      "================"
     ]
    },
    {
     "name": "stderr",
     "output_type": "stream",
     "text": [
      "INFO:root:RV = -0.73 +/- 0.219\n"
     ]
    },
    {
     "name": "stdout",
     "output_type": "stream",
     "text": [
      "\n",
      "\n",
      "\n",
      "H2O Fit:\n",
      "==============="
     ]
    },
    {
     "name": "stderr",
     "output_type": "stream",
     "text": [
      "INFO:root:RV = -0.46 +/- 0.216\n"
     ]
    },
    {
     "name": "stdout",
     "output_type": "stream",
     "text": [
      "\n",
      "File 29/120: ../20131020/HIP_18805.fits\n",
      "Warning, 1337 of 684208 bins contained negative fluxes; they have been set to zero.\n",
      "Warning, 1337 of 684208 bins contained negative fluxes; they have been set to zero.\n",
      "O2 Fit:\n",
      "================"
     ]
    },
    {
     "name": "stderr",
     "output_type": "stream",
     "text": [
      "INFO:root:RV = -0.94 +/- 0.077\n"
     ]
    },
    {
     "name": "stdout",
     "output_type": "stream",
     "text": [
      "\n",
      "\n",
      "\n",
      "H2O Fit:\n",
      "==============="
     ]
    },
    {
     "name": "stderr",
     "output_type": "stream",
     "text": [
      "INFO:root:RV = -0.66 +/- 0.074\n"
     ]
    },
    {
     "name": "stdout",
     "output_type": "stream",
     "text": [
      "\n",
      "File 30/120: ../20131020/HIP_3881.fits\n",
      "Warning, 1337 of 684208 bins contained negative fluxes; they have been set to zero.\n",
      "Warning, 1337 of 684208 bins contained negative fluxes; they have been set to zero.\n",
      "O2 Fit:\n",
      "================"
     ]
    },
    {
     "name": "stderr",
     "output_type": "stream",
     "text": [
      "INFO:root:RV = -0.62 +/- 0.069\n"
     ]
    },
    {
     "name": "stdout",
     "output_type": "stream",
     "text": [
      "\n",
      "\n",
      "\n",
      "H2O Fit:\n",
      "==============="
     ]
    },
    {
     "name": "stderr",
     "output_type": "stream",
     "text": [
      "INFO:root:RV = -0.31 +/- 0.073\n"
     ]
    },
    {
     "name": "stdout",
     "output_type": "stream",
     "text": [
      "\n",
      "File 31/120: ../20131020/HIP_4436.fits\n",
      "Warning, 1337 of 684208 bins contained negative fluxes; they have been set to zero.\n",
      "Warning, 1337 of 684208 bins contained negative fluxes; they have been set to zero.\n",
      "O2 Fit:\n",
      "================"
     ]
    },
    {
     "name": "stderr",
     "output_type": "stream",
     "text": [
      "INFO:root:RV = -0.84 +/- 0.088\n"
     ]
    },
    {
     "name": "stdout",
     "output_type": "stream",
     "text": [
      "\n",
      "\n",
      "\n",
      "H2O Fit:\n",
      "==============="
     ]
    },
    {
     "name": "stderr",
     "output_type": "stream",
     "text": [
      "INFO:root:RV = -0.53 +/- 0.082\n"
     ]
    },
    {
     "name": "stdout",
     "output_type": "stream",
     "text": [
      "\n",
      "File 32/120: ../20131020/HIP_95853.fits\n",
      "Warning, 1337 of 684208 bins contained negative fluxes; they have been set to zero.\n",
      "Warning, 1337 of 684208 bins contained negative fluxes; they have been set to zero.\n",
      "O2 Fit:\n",
      "================"
     ]
    },
    {
     "name": "stderr",
     "output_type": "stream",
     "text": [
      "INFO:root:RV = -0.58 +/- 0.095\n"
     ]
    },
    {
     "name": "stdout",
     "output_type": "stream",
     "text": [
      "\n",
      "\n",
      "\n",
      "H2O Fit:\n",
      "==============="
     ]
    },
    {
     "name": "stderr",
     "output_type": "stream",
     "text": [
      "INFO:root:RV = -0.33 +/- 0.093\n"
     ]
    },
    {
     "name": "stdout",
     "output_type": "stream",
     "text": [
      "\n",
      "File 33/120: ../20131020/HIP_96288.fits\n",
      "Warning, 1337 of 684208 bins contained negative fluxes; they have been set to zero.\n",
      "Warning, 1337 of 684208 bins contained negative fluxes; they have been set to zero.\n",
      "O2 Fit:\n",
      "================"
     ]
    },
    {
     "name": "stderr",
     "output_type": "stream",
     "text": [
      "INFO:root:RV = -0.60 +/- 0.090\n"
     ]
    },
    {
     "name": "stdout",
     "output_type": "stream",
     "text": [
      "\n",
      "\n",
      "\n",
      "H2O Fit:\n",
      "==============="
     ]
    },
    {
     "name": "stderr",
     "output_type": "stream",
     "text": [
      "INFO:root:RV = -0.38 +/- 0.089\n"
     ]
    },
    {
     "name": "stdout",
     "output_type": "stream",
     "text": [
      "\n",
      "File 34/120: ../20131020/HR_604.fits\n",
      "Warning, 1337 of 684208 bins contained negative fluxes; they have been set to zero.\n",
      "Warning, 1337 of 684208 bins contained negative fluxes; they have been set to zero.\n",
      "O2 Fit:\n",
      "================"
     ]
    },
    {
     "name": "stderr",
     "output_type": "stream",
     "text": [
      "INFO:root:RV = -0.68 +/- 0.081\n"
     ]
    },
    {
     "name": "stdout",
     "output_type": "stream",
     "text": [
      "\n",
      "\n",
      "\n",
      "H2O Fit:\n",
      "==============="
     ]
    },
    {
     "name": "stderr",
     "output_type": "stream",
     "text": [
      "INFO:root:RV = -0.45 +/- 0.078\n"
     ]
    },
    {
     "name": "stdout",
     "output_type": "stream",
     "text": [
      "\n",
      "File 35/120: ../20131021/HIP_109521.fits\n",
      "Warning, 1337 of 684208 bins contained negative fluxes; they have been set to zero.\n",
      "Warning, 1337 of 684208 bins contained negative fluxes; they have been set to zero.\n",
      "O2 Fit:\n",
      "================"
     ]
    },
    {
     "name": "stderr",
     "output_type": "stream",
     "text": [
      "INFO:root:RV = -0.63 +/- 0.027\n"
     ]
    },
    {
     "name": "stdout",
     "output_type": "stream",
     "text": [
      "\n",
      "\n",
      "\n",
      "H2O Fit:\n",
      "==============="
     ]
    },
    {
     "name": "stderr",
     "output_type": "stream",
     "text": [
      "INFO:root:RV = -0.33 +/- 0.028\n"
     ]
    },
    {
     "name": "stdout",
     "output_type": "stream",
     "text": [
      "\n",
      "File 36/120: ../20131021/HIP_113788.fits\n",
      "Warning, 1337 of 684208 bins contained negative fluxes; they have been set to zero.\n",
      "Warning, 1337 of 684208 bins contained negative fluxes; they have been set to zero.\n",
      "O2 Fit:\n",
      "================"
     ]
    },
    {
     "name": "stderr",
     "output_type": "stream",
     "text": [
      "INFO:root:RV = -0.73 +/- 0.056\n"
     ]
    },
    {
     "name": "stdout",
     "output_type": "stream",
     "text": [
      "\n",
      "\n",
      "\n",
      "H2O Fit:\n",
      "==============="
     ]
    },
    {
     "name": "stderr",
     "output_type": "stream",
     "text": [
      "INFO:root:RV = -0.41 +/- 0.055\n"
     ]
    },
    {
     "name": "stdout",
     "output_type": "stream",
     "text": [
      "\n",
      "File 37/120: ../20131021/HIP_117371.fits\n",
      "Warning, 1337 of 684208 bins contained negative fluxes; they have been set to zero.\n",
      "Warning, 1337 of 684208 bins contained negative fluxes; they have been set to zero.\n",
      "O2 Fit:\n",
      "================"
     ]
    },
    {
     "name": "stderr",
     "output_type": "stream",
     "text": [
      "INFO:root:RV = -0.62 +/- 0.039\n"
     ]
    },
    {
     "name": "stdout",
     "output_type": "stream",
     "text": [
      "\n",
      "\n",
      "\n",
      "H2O Fit:\n",
      "==============="
     ]
    },
    {
     "name": "stderr",
     "output_type": "stream",
     "text": [
      "INFO:root:RV = -0.35 +/- 0.037\n"
     ]
    },
    {
     "name": "stdout",
     "output_type": "stream",
     "text": [
      "\n",
      "File 38/120: ../20131021/HIP_20789.fits\n",
      "Warning, 1337 of 684208 bins contained negative fluxes; they have been set to zero.\n",
      "Warning, 1337 of 684208 bins contained negative fluxes; they have been set to zero.\n",
      "O2 Fit:\n",
      "================"
     ]
    },
    {
     "name": "stderr",
     "output_type": "stream",
     "text": [
      "INFO:root:RV = -0.89 +/- 0.072\n"
     ]
    },
    {
     "name": "stdout",
     "output_type": "stream",
     "text": [
      "\n",
      "\n",
      "\n",
      "H2O Fit:\n",
      "==============="
     ]
    },
    {
     "name": "stderr",
     "output_type": "stream",
     "text": [
      "INFO:root:RV = -0.58 +/- 0.068\n"
     ]
    },
    {
     "name": "stdout",
     "output_type": "stream",
     "text": [
      "\n",
      "File 39/120: ../20131021/HIP_2505.fits\n",
      "Warning, 1337 of 684208 bins contained negative fluxes; they have been set to zero.\n",
      "Warning, 1337 of 684208 bins contained negative fluxes; they have been set to zero.\n",
      "O2 Fit:\n",
      "================"
     ]
    },
    {
     "name": "stderr",
     "output_type": "stream",
     "text": [
      "INFO:root:RV = -0.68 +/- 0.046\n"
     ]
    },
    {
     "name": "stdout",
     "output_type": "stream",
     "text": [
      "\n",
      "\n",
      "\n",
      "H2O Fit:\n",
      "==============="
     ]
    },
    {
     "name": "stderr",
     "output_type": "stream",
     "text": [
      "INFO:root:RV = -0.38 +/- 0.046\n"
     ]
    },
    {
     "name": "stdout",
     "output_type": "stream",
     "text": [
      "\n",
      "File 40/120: ../20131021/HIP_9312.fits\n",
      "Warning, 1337 of 684208 bins contained negative fluxes; they have been set to zero.\n",
      "Warning, 1337 of 684208 bins contained negative fluxes; they have been set to zero.\n",
      "O2 Fit:\n",
      "================"
     ]
    },
    {
     "name": "stderr",
     "output_type": "stream",
     "text": [
      "INFO:root:RV = -0.64 +/- 0.034\n"
     ]
    },
    {
     "name": "stdout",
     "output_type": "stream",
     "text": [
      "\n",
      "\n",
      "\n",
      "H2O Fit:\n",
      "==============="
     ]
    },
    {
     "name": "stderr",
     "output_type": "stream",
     "text": [
      "INFO:root:RV = -0.34 +/- 0.031\n"
     ]
    },
    {
     "name": "stdout",
     "output_type": "stream",
     "text": [
      "\n",
      "File 41/120: ../20131021/HIP_98055.fits\n",
      "Warning, 1337 of 684208 bins contained negative fluxes; they have been set to zero.\n",
      "Warning, 1337 of 684208 bins contained negative fluxes; they have been set to zero.\n",
      "O2 Fit:\n",
      "================"
     ]
    },
    {
     "name": "stderr",
     "output_type": "stream",
     "text": [
      "INFO:root:RV = 0.04 +/- 0.057\n"
     ]
    },
    {
     "name": "stdout",
     "output_type": "stream",
     "text": [
      "\n",
      "\n",
      "\n",
      "H2O Fit:\n",
      "==============="
     ]
    },
    {
     "name": "stderr",
     "output_type": "stream",
     "text": [
      "INFO:root:RV = 0.31 +/- 0.055\n"
     ]
    },
    {
     "name": "stdout",
     "output_type": "stream",
     "text": [
      "\n",
      "File 42/120: ../20131021/HR_545.fits\n",
      "Warning, 1337 of 684208 bins contained negative fluxes; they have been set to zero.\n",
      "Warning, 1337 of 684208 bins contained negative fluxes; they have been set to zero.\n",
      "O2 Fit:\n",
      "================"
     ]
    },
    {
     "name": "stderr",
     "output_type": "stream",
     "text": [
      "INFO:root:RV = -0.78 +/- 0.101\n"
     ]
    },
    {
     "name": "stdout",
     "output_type": "stream",
     "text": [
      "\n",
      "\n",
      "\n",
      "H2O Fit:\n",
      "==============="
     ]
    },
    {
     "name": "stderr",
     "output_type": "stream",
     "text": [
      "INFO:root:RV = -0.48 +/- 0.046\n"
     ]
    },
    {
     "name": "stdout",
     "output_type": "stream",
     "text": [
      "\n",
      "File 43/120: ../20131022/HIP_114520.fits\n",
      "Warning, 1337 of 684208 bins contained negative fluxes; they have been set to zero.\n",
      "Warning, 1337 of 684208 bins contained negative fluxes; they have been set to zero.\n",
      "O2 Fit:\n",
      "================"
     ]
    },
    {
     "name": "stderr",
     "output_type": "stream",
     "text": [
      "INFO:root:RV = -0.73 +/- 0.090\n"
     ]
    },
    {
     "name": "stdout",
     "output_type": "stream",
     "text": [
      "\n",
      "\n",
      "\n",
      "H2O Fit:\n",
      "==============="
     ]
    },
    {
     "name": "stderr",
     "output_type": "stream",
     "text": [
      "INFO:root:RV = -0.42 +/- 0.051\n"
     ]
    },
    {
     "name": "stdout",
     "output_type": "stream",
     "text": [
      "\n",
      "File 44/120: ../20131022/HIP_5131.fits\n",
      "Warning, 1337 of 684208 bins contained negative fluxes; they have been set to zero.\n",
      "Warning, 1337 of 684208 bins contained negative fluxes; they have been set to zero.\n",
      "O2 Fit:\n",
      "================"
     ]
    },
    {
     "name": "stderr",
     "output_type": "stream",
     "text": [
      "INFO:root:RV = -0.71 +/- 0.130\n"
     ]
    },
    {
     "name": "stdout",
     "output_type": "stream",
     "text": [
      "\n",
      "\n",
      "\n",
      "H2O Fit:\n",
      "==============="
     ]
    },
    {
     "name": "stderr",
     "output_type": "stream",
     "text": [
      "INFO:root:RV = -0.37 +/- 0.147\n"
     ]
    },
    {
     "name": "stdout",
     "output_type": "stream",
     "text": [
      "\n",
      "File 45/120: ../20131022/HIP_5132.fits\n",
      "Warning, 1337 of 684208 bins contained negative fluxes; they have been set to zero.\n",
      "Warning, 1337 of 684208 bins contained negative fluxes; they have been set to zero.\n",
      "O2 Fit:\n",
      "================"
     ]
    },
    {
     "name": "stderr",
     "output_type": "stream",
     "text": [
      "INFO:root:RV = -0.61 +/- 0.086\n"
     ]
    },
    {
     "name": "stdout",
     "output_type": "stream",
     "text": [
      "\n",
      "\n",
      "\n",
      "H2O Fit:\n",
      "==============="
     ]
    },
    {
     "name": "stderr",
     "output_type": "stream",
     "text": [
      "INFO:root:RV = -0.35 +/- 0.048\n"
     ]
    },
    {
     "name": "stdout",
     "output_type": "stream",
     "text": [
      "\n",
      "File 46/120: ../20131022/HIP_93747.fits\n",
      "Warning, 1337 of 684208 bins contained negative fluxes; they have been set to zero.\n",
      "Warning, 1337 of 684208 bins contained negative fluxes; they have been set to zero.\n",
      "O2 Fit:\n",
      "================"
     ]
    },
    {
     "name": "stderr",
     "output_type": "stream",
     "text": [
      "INFO:root:RV = -0.71 +/- 0.091\n"
     ]
    },
    {
     "name": "stdout",
     "output_type": "stream",
     "text": [
      "\n",
      "\n",
      "\n",
      "H2O Fit:\n",
      "==============="
     ]
    },
    {
     "name": "stderr",
     "output_type": "stream",
     "text": [
      "INFO:root:RV = -0.42 +/- 0.062\n"
     ]
    },
    {
     "name": "stdout",
     "output_type": "stream",
     "text": [
      "\n",
      "File 47/120: ../20131022/HIP_98325.fits\n",
      "Warning, 1337 of 684208 bins contained negative fluxes; they have been set to zero.\n",
      "Warning, 1337 of 684208 bins contained negative fluxes; they have been set to zero.\n",
      "O2 Fit:\n",
      "================"
     ]
    },
    {
     "name": "stderr",
     "output_type": "stream",
     "text": [
      "INFO:root:RV = -0.69 +/- 0.073\n"
     ]
    },
    {
     "name": "stdout",
     "output_type": "stream",
     "text": [
      "\n",
      "\n",
      "\n",
      "H2O Fit:\n",
      "==============="
     ]
    },
    {
     "name": "stderr",
     "output_type": "stream",
     "text": [
      "INFO:root:RV = -0.34 +/- 0.068\n"
     ]
    },
    {
     "name": "stdout",
     "output_type": "stream",
     "text": [
      "\n",
      "File 48/120: ../20131122/HIP_10670.fits\n",
      "Warning, 1337 of 684208 bins contained negative fluxes; they have been set to zero.\n",
      "Warning, 1337 of 684208 bins contained negative fluxes; they have been set to zero.\n",
      "O2 Fit:\n",
      "================"
     ]
    },
    {
     "name": "stderr",
     "output_type": "stream",
     "text": [
      "INFO:root:RV = -0.71 +/- 0.076\n"
     ]
    },
    {
     "name": "stdout",
     "output_type": "stream",
     "text": [
      "\n",
      "\n",
      "\n",
      "H2O Fit:\n",
      "==============="
     ]
    },
    {
     "name": "stderr",
     "output_type": "stream",
     "text": [
      "INFO:root:RV = -0.45 +/- 0.086\n"
     ]
    },
    {
     "name": "stdout",
     "output_type": "stream",
     "text": [
      "\n",
      "File 49/120: ../20131122/HIP_106711.fits\n",
      "Warning, 1337 of 684208 bins contained negative fluxes; they have been set to zero.\n",
      "Warning, 1337 of 684208 bins contained negative fluxes; they have been set to zero.\n",
      "O2 Fit:\n",
      "================"
     ]
    },
    {
     "name": "stderr",
     "output_type": "stream",
     "text": [
      "INFO:root:RV = -0.58 +/- 0.055\n"
     ]
    },
    {
     "name": "stdout",
     "output_type": "stream",
     "text": [
      "\n",
      "\n",
      "\n",
      "H2O Fit:\n",
      "==============="
     ]
    },
    {
     "name": "stderr",
     "output_type": "stream",
     "text": [
      "INFO:root:RV = -0.32 +/- 0.055\n"
     ]
    },
    {
     "name": "stdout",
     "output_type": "stream",
     "text": [
      "\n",
      "File 50/120: ../20131122/HIP_13209.fits\n",
      "Warning, 1337 of 684208 bins contained negative fluxes; they have been set to zero.\n",
      "Warning, 1337 of 684208 bins contained negative fluxes; they have been set to zero.\n",
      "O2 Fit:\n",
      "================"
     ]
    },
    {
     "name": "stderr",
     "output_type": "stream",
     "text": [
      "INFO:root:RV = -0.71 +/- 0.099\n"
     ]
    },
    {
     "name": "stdout",
     "output_type": "stream",
     "text": [
      "\n",
      "\n",
      "\n",
      "H2O Fit:\n",
      "==============="
     ]
    },
    {
     "name": "stderr",
     "output_type": "stream",
     "text": [
      "INFO:root:RV = -0.44 +/- 0.103\n"
     ]
    },
    {
     "name": "stdout",
     "output_type": "stream",
     "text": [
      "\n",
      "File 51/120: ../20131122/HIP_13879.fits\n",
      "Warning, 1337 of 684208 bins contained negative fluxes; they have been set to zero.\n",
      "Warning, 1337 of 684208 bins contained negative fluxes; they have been set to zero.\n",
      "O2 Fit:\n",
      "================"
     ]
    },
    {
     "name": "stderr",
     "output_type": "stream",
     "text": [
      "INFO:root:RV = -0.79 +/- 0.092\n"
     ]
    },
    {
     "name": "stdout",
     "output_type": "stream",
     "text": [
      "\n",
      "\n",
      "\n",
      "H2O Fit:\n",
      "==============="
     ]
    },
    {
     "name": "stderr",
     "output_type": "stream",
     "text": [
      "INFO:root:RV = -0.52 +/- 0.095\n"
     ]
    },
    {
     "name": "stdout",
     "output_type": "stream",
     "text": [
      "\n",
      "File 52/120: ../20131122/HIP_813.fits\n",
      "Warning, 1337 of 684208 bins contained negative fluxes; they have been set to zero.\n",
      "Warning, 1337 of 684208 bins contained negative fluxes; they have been set to zero.\n",
      "O2 Fit:\n",
      "================"
     ]
    },
    {
     "name": "stderr",
     "output_type": "stream",
     "text": [
      "INFO:root:RV = -0.57 +/- 0.045\n"
     ]
    },
    {
     "name": "stdout",
     "output_type": "stream",
     "text": [
      "\n",
      "\n",
      "\n",
      "H2O Fit:\n",
      "==============="
     ]
    },
    {
     "name": "stderr",
     "output_type": "stream",
     "text": [
      "INFO:root:RV = -0.32 +/- 0.051\n"
     ]
    },
    {
     "name": "stdout",
     "output_type": "stream",
     "text": [
      "\n",
      "File 53/120: ../20140110/HIP_22509.fits\n",
      "Warning, 1337 of 684208 bins contained negative fluxes; they have been set to zero.\n",
      "Warning, 1337 of 684208 bins contained negative fluxes; they have been set to zero.\n",
      "O2 Fit:\n",
      "================"
     ]
    },
    {
     "name": "stderr",
     "output_type": "stream",
     "text": [
      "INFO:root:RV = -0.66 +/- 0.055\n"
     ]
    },
    {
     "name": "stdout",
     "output_type": "stream",
     "text": [
      "\n",
      "\n",
      "\n",
      "H2O Fit:\n",
      "==============="
     ]
    },
    {
     "name": "stderr",
     "output_type": "stream",
     "text": [
      "INFO:root:RV = -0.41 +/- 0.050\n"
     ]
    },
    {
     "name": "stdout",
     "output_type": "stream",
     "text": [
      "\n",
      "File 54/120: ../20140110/HIP_41307.fits\n",
      "Warning, 1337 of 684208 bins contained negative fluxes; they have been set to zero.\n",
      "Warning, 1337 of 684208 bins contained negative fluxes; they have been set to zero.\n",
      "O2 Fit:\n",
      "================"
     ]
    },
    {
     "name": "stderr",
     "output_type": "stream",
     "text": [
      "INFO:root:RV = -0.62 +/- 0.075\n"
     ]
    },
    {
     "name": "stdout",
     "output_type": "stream",
     "text": [
      "\n",
      "\n",
      "\n",
      "H2O Fit:\n",
      "==============="
     ]
    },
    {
     "name": "stderr",
     "output_type": "stream",
     "text": [
      "INFO:root:RV = -0.38 +/- 0.078\n"
     ]
    },
    {
     "name": "stdout",
     "output_type": "stream",
     "text": [
      "\n",
      "File 55/120: ../20140111/HIP_19799.fits\n",
      "Warning, 1337 of 684208 bins contained negative fluxes; they have been set to zero.\n",
      "Warning, 1337 of 684208 bins contained negative fluxes; they have been set to zero.\n",
      "O2 Fit:\n",
      "================"
     ]
    },
    {
     "name": "stderr",
     "output_type": "stream",
     "text": [
      "INFO:root:RV = -0.71 +/- 0.049\n"
     ]
    },
    {
     "name": "stdout",
     "output_type": "stream",
     "text": [
      "\n",
      "\n",
      "\n",
      "H2O Fit:\n",
      "==============="
     ]
    },
    {
     "name": "stderr",
     "output_type": "stream",
     "text": [
      "INFO:root:RV = -0.41 +/- 0.042\n"
     ]
    },
    {
     "name": "stdout",
     "output_type": "stream",
     "text": [
      "\n",
      "File 56/120: ../20140111/HIP_31278.fits\n",
      "Warning, 1337 of 684208 bins contained negative fluxes; they have been set to zero.\n",
      "Warning, 1337 of 684208 bins contained negative fluxes; they have been set to zero.\n",
      "O2 Fit:\n",
      "================"
     ]
    },
    {
     "name": "stderr",
     "output_type": "stream",
     "text": [
      "INFO:root:RV = -0.67 +/- 0.021\n"
     ]
    },
    {
     "name": "stdout",
     "output_type": "stream",
     "text": [
      "\n",
      "\n",
      "\n",
      "H2O Fit:\n",
      "==============="
     ]
    },
    {
     "name": "stderr",
     "output_type": "stream",
     "text": [
      "INFO:root:RV = -0.38 +/- 0.015\n"
     ]
    },
    {
     "name": "stdout",
     "output_type": "stream",
     "text": [
      "\n",
      "File 57/120: ../20140111/HIP_36760.fits\n",
      "Warning, 1337 of 684208 bins contained negative fluxes; they have been set to zero.\n",
      "Warning, 1337 of 684208 bins contained negative fluxes; they have been set to zero.\n",
      "O2 Fit:\n",
      "================"
     ]
    },
    {
     "name": "stderr",
     "output_type": "stream",
     "text": [
      "INFO:root:RV = -0.65 +/- nan\n",
      "INFO:root:RV = -0.37 +/- nan\n"
     ]
    },
    {
     "name": "stdout",
     "output_type": "stream",
     "text": [
      "\n",
      "\n",
      "\n",
      "H2O Fit:\n",
      "===============\n",
      "File 58/120: ../20140111/HIP_39567.fits\n",
      "Warning, 1337 of 684208 bins contained negative fluxes; they have been set to zero.\n",
      "Warning, 1337 of 684208 bins contained negative fluxes; they have been set to zero.\n",
      "O2 Fit:\n",
      "================"
     ]
    },
    {
     "name": "stderr",
     "output_type": "stream",
     "text": [
      "INFO:root:RV = -0.73 +/- 0.050\n"
     ]
    },
    {
     "name": "stdout",
     "output_type": "stream",
     "text": [
      "\n",
      "\n",
      "\n",
      "H2O Fit:\n",
      "==============="
     ]
    },
    {
     "name": "stderr",
     "output_type": "stream",
     "text": [
      "INFO:root:RV = -0.42 +/- 0.043\n"
     ]
    },
    {
     "name": "stdout",
     "output_type": "stream",
     "text": [
      "\n",
      "File 59/120: ../20140111/HIP_70400.fits\n",
      "Warning, 1337 of 684208 bins contained negative fluxes; they have been set to zero.\n",
      "Warning, 1337 of 684208 bins contained negative fluxes; they have been set to zero.\n",
      "O2 Fit:\n",
      "================"
     ]
    },
    {
     "name": "stderr",
     "output_type": "stream",
     "text": [
      "INFO:root:RV = -0.99 +/- 0.128\n"
     ]
    },
    {
     "name": "stdout",
     "output_type": "stream",
     "text": [
      "\n",
      "\n",
      "\n",
      "H2O Fit:\n",
      "==============="
     ]
    },
    {
     "name": "stderr",
     "output_type": "stream",
     "text": [
      "INFO:root:RV = -0.62 +/- 0.117\n"
     ]
    },
    {
     "name": "stdout",
     "output_type": "stream",
     "text": [
      "\n",
      "File 60/120: ../20140111/HR_545.fits\n",
      "Warning, 1337 of 684208 bins contained negative fluxes; they have been set to zero.\n",
      "Warning, 1337 of 684208 bins contained negative fluxes; they have been set to zero.\n",
      "O2 Fit:\n",
      "================"
     ]
    },
    {
     "name": "stderr",
     "output_type": "stream",
     "text": [
      "INFO:root:RV = -0.67 +/- 0.033\n"
     ]
    },
    {
     "name": "stdout",
     "output_type": "stream",
     "text": [
      "\n",
      "\n",
      "\n",
      "H2O Fit:\n",
      "==============="
     ]
    },
    {
     "name": "stderr",
     "output_type": "stream",
     "text": [
      "INFO:root:RV = -0.38 +/- 0.026\n"
     ]
    },
    {
     "name": "stdout",
     "output_type": "stream",
     "text": [
      "\n",
      "File 61/120: ../20140112/HIP_25695.fits\n",
      "Warning, 1337 of 684208 bins contained negative fluxes; they have been set to zero.\n",
      "Warning, 1337 of 684208 bins contained negative fluxes; they have been set to zero.\n",
      "O2 Fit:\n",
      "================"
     ]
    },
    {
     "name": "stderr",
     "output_type": "stream",
     "text": [
      "INFO:root:RV = -0.68 +/- 0.092\n"
     ]
    },
    {
     "name": "stdout",
     "output_type": "stream",
     "text": [
      "\n",
      "\n",
      "\n",
      "H2O Fit:\n",
      "==============="
     ]
    },
    {
     "name": "stderr",
     "output_type": "stream",
     "text": [
      "INFO:root:RV = -0.43 +/- 0.071\n"
     ]
    },
    {
     "name": "stdout",
     "output_type": "stream",
     "text": [
      "\n",
      "File 62/120: ../20140112/HIP_3478.fits\n",
      "Warning, 1337 of 684208 bins contained negative fluxes; they have been set to zero.\n",
      "Warning, 1337 of 684208 bins contained negative fluxes; they have been set to zero.\n",
      "O2 Fit:\n",
      "================"
     ]
    },
    {
     "name": "stderr",
     "output_type": "stream",
     "text": [
      "INFO:root:RV = -0.74 +/- 0.108\n"
     ]
    },
    {
     "name": "stdout",
     "output_type": "stream",
     "text": [
      "\n",
      "\n",
      "\n",
      "H2O Fit:\n",
      "==============="
     ]
    },
    {
     "name": "stderr",
     "output_type": "stream",
     "text": [
      "INFO:root:RV = -0.49 +/- 0.119\n"
     ]
    },
    {
     "name": "stdout",
     "output_type": "stream",
     "text": [
      "\n",
      "File 63/120: ../20140112/HIP_38538.fits\n",
      "Warning, 1337 of 684208 bins contained negative fluxes; they have been set to zero.\n",
      "Warning, 1337 of 684208 bins contained negative fluxes; they have been set to zero.\n",
      "O2 Fit:\n",
      "================"
     ]
    },
    {
     "name": "stderr",
     "output_type": "stream",
     "text": [
      "INFO:root:RV = -0.72 +/- 0.089\n"
     ]
    },
    {
     "name": "stdout",
     "output_type": "stream",
     "text": [
      "\n",
      "\n",
      "\n",
      "H2O Fit:\n",
      "==============="
     ]
    },
    {
     "name": "stderr",
     "output_type": "stream",
     "text": [
      "INFO:root:RV = -0.42 +/- 0.060\n"
     ]
    },
    {
     "name": "stdout",
     "output_type": "stream",
     "text": [
      "\n",
      "File 64/120: ../20140112/HIP_52638.fits\n",
      "Warning, 1337 of 684208 bins contained negative fluxes; they have been set to zero.\n",
      "Warning, 1337 of 684208 bins contained negative fluxes; they have been set to zero.\n",
      "O2 Fit:\n",
      "================"
     ]
    },
    {
     "name": "stderr",
     "output_type": "stream",
     "text": [
      "INFO:root:RV = -0.64 +/- 0.118\n"
     ]
    },
    {
     "name": "stdout",
     "output_type": "stream",
     "text": [
      "\n",
      "\n",
      "\n",
      "H2O Fit:\n",
      "==============="
     ]
    },
    {
     "name": "stderr",
     "output_type": "stream",
     "text": [
      "INFO:root:RV = -0.37 +/- 0.118\n"
     ]
    },
    {
     "name": "stdout",
     "output_type": "stream",
     "text": [
      "\n",
      "File 65/120: ../20140112/HIP_56633.fits\n",
      "Warning, 1337 of 684208 bins contained negative fluxes; they have been set to zero.\n",
      "Warning, 1337 of 684208 bins contained negative fluxes; they have been set to zero.\n",
      "O2 Fit:\n",
      "================"
     ]
    },
    {
     "name": "stderr",
     "output_type": "stream",
     "text": [
      "INFO:root:RV = -0.61 +/- 0.087\n"
     ]
    },
    {
     "name": "stdout",
     "output_type": "stream",
     "text": [
      "\n",
      "\n",
      "\n",
      "H2O Fit:\n",
      "==============="
     ]
    },
    {
     "name": "stderr",
     "output_type": "stream",
     "text": [
      "INFO:root:RV = -0.33 +/- 0.086\n"
     ]
    },
    {
     "name": "stdout",
     "output_type": "stream",
     "text": [
      "\n",
      "File 66/120: ../20140112/HIP_59819.fits\n",
      "Warning, 1337 of 684208 bins contained negative fluxes; they have been set to zero.\n",
      "Warning, 1337 of 684208 bins contained negative fluxes; they have been set to zero.\n",
      "O2 Fit:\n",
      "================"
     ]
    },
    {
     "name": "stderr",
     "output_type": "stream",
     "text": [
      "INFO:root:RV = -0.80 +/- 0.103\n"
     ]
    },
    {
     "name": "stdout",
     "output_type": "stream",
     "text": [
      "\n",
      "\n",
      "\n",
      "H2O Fit:\n",
      "==============="
     ]
    },
    {
     "name": "stderr",
     "output_type": "stream",
     "text": [
      "INFO:root:RV = -0.49 +/- 0.094\n"
     ]
    },
    {
     "name": "stdout",
     "output_type": "stream",
     "text": [
      "\n",
      "File 67/120: ../20140112/HIP_65477.fits\n",
      "Warning, 1337 of 684208 bins contained negative fluxes; they have been set to zero.\n",
      "Warning, 1337 of 684208 bins contained negative fluxes; they have been set to zero.\n",
      "O2 Fit:\n",
      "================"
     ]
    },
    {
     "name": "stderr",
     "output_type": "stream",
     "text": [
      "INFO:root:RV = -0.71 +/- 0.096\n"
     ]
    },
    {
     "name": "stdout",
     "output_type": "stream",
     "text": [
      "\n",
      "\n",
      "\n",
      "H2O Fit:\n",
      "==============="
     ]
    },
    {
     "name": "stderr",
     "output_type": "stream",
     "text": [
      "INFO:root:RV = -0.39 +/- 0.098\n"
     ]
    },
    {
     "name": "stdout",
     "output_type": "stream",
     "text": [
      "\n",
      "File 68/120: ../20140113/HIP_13327.fits\n",
      "Warning, 1337 of 684208 bins contained negative fluxes; they have been set to zero.\n",
      "Warning, 1337 of 684208 bins contained negative fluxes; they have been set to zero.\n",
      "O2 Fit:\n",
      "================"
     ]
    },
    {
     "name": "stderr",
     "output_type": "stream",
     "text": [
      "INFO:root:RV = -0.82 +/- 0.069\n"
     ]
    },
    {
     "name": "stdout",
     "output_type": "stream",
     "text": [
      "\n",
      "\n",
      "\n",
      "H2O Fit:\n",
      "==============="
     ]
    },
    {
     "name": "stderr",
     "output_type": "stream",
     "text": [
      "INFO:root:RV = -0.53 +/- 0.068\n"
     ]
    },
    {
     "name": "stdout",
     "output_type": "stream",
     "text": [
      "\n",
      "File 69/120: ../20140113/HIP_25555.fits\n",
      "Warning, 1337 of 684208 bins contained negative fluxes; they have been set to zero.\n",
      "Warning, 1337 of 684208 bins contained negative fluxes; they have been set to zero.\n",
      "O2 Fit:\n",
      "================"
     ]
    },
    {
     "name": "stderr",
     "output_type": "stream",
     "text": [
      "INFO:root:RV = -0.78 +/- 0.040\n"
     ]
    },
    {
     "name": "stdout",
     "output_type": "stream",
     "text": [
      "\n",
      "\n",
      "\n",
      "H2O Fit:\n",
      "==============="
     ]
    },
    {
     "name": "stderr",
     "output_type": "stream",
     "text": [
      "INFO:root:RV = -0.51 +/- 0.050\n"
     ]
    },
    {
     "name": "stdout",
     "output_type": "stream",
     "text": [
      "\n",
      "File 70/120: ../20140113/HIP_36393.fits\n",
      "Warning, 1337 of 684208 bins contained negative fluxes; they have been set to zero.\n",
      "Warning, 1337 of 684208 bins contained negative fluxes; they have been set to zero.\n",
      "O2 Fit:\n",
      "================"
     ]
    },
    {
     "name": "stderr",
     "output_type": "stream",
     "text": [
      "INFO:root:RV = -0.72 +/- 0.014\n"
     ]
    },
    {
     "name": "stdout",
     "output_type": "stream",
     "text": [
      "\n",
      "\n",
      "\n",
      "H2O Fit:\n",
      "==============="
     ]
    },
    {
     "name": "stderr",
     "output_type": "stream",
     "text": [
      "INFO:root:RV = -0.48 +/- 0.021\n"
     ]
    },
    {
     "name": "stdout",
     "output_type": "stream",
     "text": [
      "\n",
      "File 71/120: ../20140113/HIP_43142.fits\n",
      "Warning, 1337 of 684208 bins contained negative fluxes; they have been set to zero.\n",
      "Warning, 1337 of 684208 bins contained negative fluxes; they have been set to zero.\n",
      "O2 Fit:\n",
      "================"
     ]
    },
    {
     "name": "stderr",
     "output_type": "stream",
     "text": [
      "INFO:root:RV = -0.80 +/- 0.044\n"
     ]
    },
    {
     "name": "stdout",
     "output_type": "stream",
     "text": [
      "\n",
      "\n",
      "\n",
      "H2O Fit:\n",
      "==============="
     ]
    },
    {
     "name": "stderr",
     "output_type": "stream",
     "text": [
      "INFO:root:RV = -0.53 +/- 0.051\n"
     ]
    },
    {
     "name": "stdout",
     "output_type": "stream",
     "text": [
      "\n",
      "File 72/120: ../20140113/HIP_52911.fits\n",
      "Warning, 1337 of 684208 bins contained negative fluxes; they have been set to zero.\n",
      "Warning, 1337 of 684208 bins contained negative fluxes; they have been set to zero.\n",
      "O2 Fit:\n",
      "================"
     ]
    },
    {
     "name": "stderr",
     "output_type": "stream",
     "text": [
      "INFO:root:RV = -0.85 +/- 0.132\n"
     ]
    },
    {
     "name": "stdout",
     "output_type": "stream",
     "text": [
      "\n",
      "\n",
      "\n",
      "H2O Fit:\n",
      "==============="
     ]
    },
    {
     "name": "stderr",
     "output_type": "stream",
     "text": [
      "INFO:root:RV = -0.49 +/- 0.091\n"
     ]
    },
    {
     "name": "stdout",
     "output_type": "stream",
     "text": [
      "\n",
      "File 73/120: ../20140113/HIP_54849.fits\n",
      "Warning, 1337 of 684208 bins contained negative fluxes; they have been set to zero.\n",
      "Warning, 1337 of 684208 bins contained negative fluxes; they have been set to zero.\n",
      "O2 Fit:\n",
      "================"
     ]
    },
    {
     "name": "stderr",
     "output_type": "stream",
     "text": [
      "INFO:root:RV = -0.75 +/- 0.120\n"
     ]
    },
    {
     "name": "stdout",
     "output_type": "stream",
     "text": [
      "\n",
      "\n",
      "\n",
      "H2O Fit:\n",
      "==============="
     ]
    },
    {
     "name": "stderr",
     "output_type": "stream",
     "text": [
      "INFO:root:RV = -0.42 +/- 0.108\n"
     ]
    },
    {
     "name": "stdout",
     "output_type": "stream",
     "text": [
      "\n",
      "File 74/120: ../20140119/HIP_12803.fits\n",
      "Warning, 1337 of 684208 bins contained negative fluxes; they have been set to zero.\n",
      "Warning, 1337 of 684208 bins contained negative fluxes; they have been set to zero.\n",
      "O2 Fit:\n",
      "================"
     ]
    },
    {
     "name": "stderr",
     "output_type": "stream",
     "text": [
      "INFO:root:RV = -0.84 +/- 0.115\n"
     ]
    },
    {
     "name": "stdout",
     "output_type": "stream",
     "text": [
      "\n",
      "\n",
      "\n",
      "H2O Fit:\n",
      "==============="
     ]
    },
    {
     "name": "stderr",
     "output_type": "stream",
     "text": [
      "INFO:root:RV = -0.53 +/- 0.061\n"
     ]
    },
    {
     "name": "stdout",
     "output_type": "stream",
     "text": [
      "\n",
      "File 75/120: ../20140119/HIP_16210.fits\n",
      "Warning, 1337 of 684208 bins contained negative fluxes; they have been set to zero.\n",
      "Warning, 1337 of 684208 bins contained negative fluxes; they have been set to zero.\n",
      "O2 Fit:\n",
      "================"
     ]
    },
    {
     "name": "stderr",
     "output_type": "stream",
     "text": [
      "INFO:root:RV = -0.67 +/- 0.063\n"
     ]
    },
    {
     "name": "stdout",
     "output_type": "stream",
     "text": [
      "\n",
      "\n",
      "\n",
      "H2O Fit:\n",
      "==============="
     ]
    },
    {
     "name": "stderr",
     "output_type": "stream",
     "text": [
      "INFO:root:RV = -0.39 +/- 0.024\n"
     ]
    },
    {
     "name": "stdout",
     "output_type": "stream",
     "text": [
      "\n",
      "File 76/120: ../20140119/HIP_19968.fits\n",
      "Warning, 1337 of 684208 bins contained negative fluxes; they have been set to zero.\n",
      "Warning, 1337 of 684208 bins contained negative fluxes; they have been set to zero.\n",
      "O2 Fit:\n",
      "================"
     ]
    },
    {
     "name": "stderr",
     "output_type": "stream",
     "text": [
      "INFO:root:RV = -0.64 +/- 0.089\n"
     ]
    },
    {
     "name": "stdout",
     "output_type": "stream",
     "text": [
      "\n",
      "\n",
      "\n",
      "H2O Fit:\n",
      "==============="
     ]
    },
    {
     "name": "stderr",
     "output_type": "stream",
     "text": [
      "INFO:root:RV = -0.34 +/- 0.085\n"
     ]
    },
    {
     "name": "stdout",
     "output_type": "stream",
     "text": [
      "\n",
      "File 77/120: ../20140119/HIP_26093.fits\n",
      "Warning, 1337 of 684208 bins contained negative fluxes; they have been set to zero.\n",
      "Warning, 1337 of 684208 bins contained negative fluxes; they have been set to zero.\n",
      "O2 Fit:\n",
      "================"
     ]
    },
    {
     "name": "stderr",
     "output_type": "stream",
     "text": [
      "INFO:root:RV = -1.01 +/- 0.063\n"
     ]
    },
    {
     "name": "stdout",
     "output_type": "stream",
     "text": [
      "\n",
      "\n",
      "\n",
      "H2O Fit:\n",
      "==============="
     ]
    },
    {
     "name": "stderr",
     "output_type": "stream",
     "text": [
      "INFO:root:RV = -0.65 +/- 0.049\n"
     ]
    },
    {
     "name": "stdout",
     "output_type": "stream",
     "text": [
      "\n",
      "File 78/120: ../20140119/HIP_31434.fits\n",
      "Warning, 1337 of 684208 bins contained negative fluxes; they have been set to zero.\n",
      "Warning, 1337 of 684208 bins contained negative fluxes; they have been set to zero.\n",
      "O2 Fit:\n",
      "================"
     ]
    },
    {
     "name": "stderr",
     "output_type": "stream",
     "text": [
      "INFO:root:RV = -0.78 +/- 0.108\n"
     ]
    },
    {
     "name": "stdout",
     "output_type": "stream",
     "text": [
      "\n",
      "\n",
      "\n",
      "H2O Fit:\n",
      "==============="
     ]
    },
    {
     "name": "stderr",
     "output_type": "stream",
     "text": [
      "INFO:root:RV = -0.49 +/- 0.027\n"
     ]
    },
    {
     "name": "stdout",
     "output_type": "stream",
     "text": [
      "\n",
      "File 79/120: ../20140119/HIP_36393.fits\n",
      "Warning, 1337 of 684208 bins contained negative fluxes; they have been set to zero.\n",
      "Warning, 1337 of 684208 bins contained negative fluxes; they have been set to zero.\n",
      "O2 Fit:\n",
      "================"
     ]
    },
    {
     "name": "stderr",
     "output_type": "stream",
     "text": [
      "INFO:root:RV = -0.77 +/- 0.084\n"
     ]
    },
    {
     "name": "stdout",
     "output_type": "stream",
     "text": [
      "\n",
      "\n",
      "\n",
      "H2O Fit:\n",
      "==============="
     ]
    },
    {
     "name": "stderr",
     "output_type": "stream",
     "text": [
      "INFO:root:RV = -0.55 +/- 0.083\n"
     ]
    },
    {
     "name": "stdout",
     "output_type": "stream",
     "text": [
      "\n",
      "File 80/120: ../20140119/HIP_39847.fits\n",
      "Warning, 1337 of 684208 bins contained negative fluxes; they have been set to zero.\n",
      "Warning, 1337 of 684208 bins contained negative fluxes; they have been set to zero.\n",
      "O2 Fit:\n",
      "================"
     ]
    },
    {
     "name": "stderr",
     "output_type": "stream",
     "text": [
      "INFO:root:RV = -0.68 +/- 0.081\n"
     ]
    },
    {
     "name": "stdout",
     "output_type": "stream",
     "text": [
      "\n",
      "\n",
      "\n",
      "H2O Fit:\n",
      "==============="
     ]
    },
    {
     "name": "stderr",
     "output_type": "stream",
     "text": [
      "INFO:root:RV = -0.46 +/- 0.021\n"
     ]
    },
    {
     "name": "stdout",
     "output_type": "stream",
     "text": [
      "\n",
      "File 81/120: ../20140119/HIP_47006.fits\n",
      "Warning, 1337 of 684208 bins contained negative fluxes; they have been set to zero.\n",
      "Warning, 1337 of 684208 bins contained negative fluxes; they have been set to zero.\n",
      "O2 Fit:\n",
      "================"
     ]
    },
    {
     "name": "stderr",
     "output_type": "stream",
     "text": [
      "INFO:root:RV = -0.62 +/- 0.128\n"
     ]
    },
    {
     "name": "stdout",
     "output_type": "stream",
     "text": [
      "\n",
      "\n",
      "\n",
      "H2O Fit:\n",
      "==============="
     ]
    },
    {
     "name": "stderr",
     "output_type": "stream",
     "text": [
      "INFO:root:RV = -0.38 +/- 0.136\n"
     ]
    },
    {
     "name": "stdout",
     "output_type": "stream",
     "text": [
      "\n",
      "File 82/120: ../20140119/HIP_52422.fits\n",
      "Warning, 1337 of 684208 bins contained negative fluxes; they have been set to zero.\n",
      "Warning, 1337 of 684208 bins contained negative fluxes; they have been set to zero.\n",
      "O2 Fit:\n",
      "================"
     ]
    },
    {
     "name": "stderr",
     "output_type": "stream",
     "text": [
      "INFO:root:RV = -0.84 +/- 0.026\n"
     ]
    },
    {
     "name": "stdout",
     "output_type": "stream",
     "text": [
      "\n",
      "\n",
      "\n",
      "H2O Fit:\n",
      "==============="
     ]
    },
    {
     "name": "stderr",
     "output_type": "stream",
     "text": [
      "INFO:root:RV = -0.56 +/- 0.032\n"
     ]
    },
    {
     "name": "stdout",
     "output_type": "stream",
     "text": [
      "\n",
      "File 83/120: ../20140119/HIP_52457.fits\n",
      "Warning, 1337 of 684208 bins contained negative fluxes; they have been set to zero.\n",
      "Warning, 1337 of 684208 bins contained negative fluxes; they have been set to zero.\n",
      "O2 Fit:\n",
      "================"
     ]
    },
    {
     "name": "stderr",
     "output_type": "stream",
     "text": [
      "INFO:root:RV = -0.77 +/- 0.064\n"
     ]
    },
    {
     "name": "stdout",
     "output_type": "stream",
     "text": [
      "\n",
      "\n",
      "\n",
      "H2O Fit:\n",
      "==============="
     ]
    },
    {
     "name": "stderr",
     "output_type": "stream",
     "text": [
      "INFO:root:RV = -0.45 +/- 0.056\n"
     ]
    },
    {
     "name": "stdout",
     "output_type": "stream",
     "text": [
      "\n",
      "File 84/120: ../20140119/HIP_56034.fits\n",
      "Warning, 1337 of 684208 bins contained negative fluxes; they have been set to zero.\n",
      "Warning, 1337 of 684208 bins contained negative fluxes; they have been set to zero.\n",
      "O2 Fit:\n",
      "================"
     ]
    },
    {
     "name": "stderr",
     "output_type": "stream",
     "text": [
      "INFO:root:RV = -0.72 +/- 0.088\n"
     ]
    },
    {
     "name": "stdout",
     "output_type": "stream",
     "text": [
      "\n",
      "\n",
      "\n",
      "H2O Fit:\n",
      "==============="
     ]
    },
    {
     "name": "stderr",
     "output_type": "stream",
     "text": [
      "INFO:root:RV = -0.43 +/- 0.083\n"
     ]
    },
    {
     "name": "stdout",
     "output_type": "stream",
     "text": [
      "\n",
      "File 85/120: ../20140119/HIP_60595.fits\n",
      "Warning, 1337 of 684208 bins contained negative fluxes; they have been set to zero.\n",
      "Warning, 1337 of 684208 bins contained negative fluxes; they have been set to zero.\n",
      "O2 Fit:\n",
      "================"
     ]
    },
    {
     "name": "stderr",
     "output_type": "stream",
     "text": [
      "INFO:root:RV = -0.43 +/- 0.106\n"
     ]
    },
    {
     "name": "stdout",
     "output_type": "stream",
     "text": [
      "\n",
      "\n",
      "\n",
      "H2O Fit:\n",
      "==============="
     ]
    },
    {
     "name": "stderr",
     "output_type": "stream",
     "text": [
      "INFO:root:RV = -0.23 +/- 0.099\n"
     ]
    },
    {
     "name": "stdout",
     "output_type": "stream",
     "text": [
      "\n",
      "File 86/120: ../20140120/HIP_12332.fits\n",
      "Warning, 1337 of 684208 bins contained negative fluxes; they have been set to zero.\n",
      "Warning, 1337 of 684208 bins contained negative fluxes; they have been set to zero.\n",
      "O2 Fit:\n",
      "================"
     ]
    },
    {
     "name": "stderr",
     "output_type": "stream",
     "text": [
      "INFO:root:RV = -0.63 +/- 0.082\n"
     ]
    },
    {
     "name": "stdout",
     "output_type": "stream",
     "text": [
      "\n",
      "\n",
      "\n",
      "H2O Fit:\n",
      "==============="
     ]
    },
    {
     "name": "stderr",
     "output_type": "stream",
     "text": [
      "INFO:root:RV = -0.32 +/- 0.083\n"
     ]
    },
    {
     "name": "stdout",
     "output_type": "stream",
     "text": [
      "\n",
      "File 87/120: ../20140120/HIP_21928.fits\n",
      "Warning, 1337 of 684208 bins contained negative fluxes; they have been set to zero.\n",
      "Warning, 1337 of 684208 bins contained negative fluxes; they have been set to zero.\n",
      "O2 Fit:\n",
      "================"
     ]
    },
    {
     "name": "stderr",
     "output_type": "stream",
     "text": [
      "INFO:root:RV = -0.68 +/- 0.126\n"
     ]
    },
    {
     "name": "stdout",
     "output_type": "stream",
     "text": [
      "\n",
      "\n",
      "\n",
      "H2O Fit:\n",
      "==============="
     ]
    },
    {
     "name": "stderr",
     "output_type": "stream",
     "text": [
      "INFO:root:RV = -0.32 +/- 0.128\n"
     ]
    },
    {
     "name": "stdout",
     "output_type": "stream",
     "text": [
      "\n",
      "File 88/120: ../20140120/HIP_26563.fits\n",
      "Warning, 1337 of 684208 bins contained negative fluxes; they have been set to zero.\n",
      "Warning, 1337 of 684208 bins contained negative fluxes; they have been set to zero.\n",
      "O2 Fit:\n",
      "================"
     ]
    },
    {
     "name": "stderr",
     "output_type": "stream",
     "text": [
      "INFO:root:RV = -0.65 +/- 0.082\n"
     ]
    },
    {
     "name": "stdout",
     "output_type": "stream",
     "text": [
      "\n",
      "\n",
      "\n",
      "H2O Fit:\n",
      "==============="
     ]
    },
    {
     "name": "stderr",
     "output_type": "stream",
     "text": [
      "INFO:root:RV = -0.34 +/- 0.071\n"
     ]
    },
    {
     "name": "stdout",
     "output_type": "stream",
     "text": [
      "\n",
      "File 89/120: ../20140120/HIP_34769.fits\n",
      "Warning, 1337 of 684208 bins contained negative fluxes; they have been set to zero.\n",
      "Warning, 1337 of 684208 bins contained negative fluxes; they have been set to zero.\n",
      "O2 Fit:\n",
      "================"
     ]
    },
    {
     "name": "stderr",
     "output_type": "stream",
     "text": [
      "INFO:root:RV = -0.71 +/- 0.083\n"
     ]
    },
    {
     "name": "stdout",
     "output_type": "stream",
     "text": [
      "\n",
      "\n",
      "\n",
      "H2O Fit:\n",
      "==============="
     ]
    },
    {
     "name": "stderr",
     "output_type": "stream",
     "text": [
      "INFO:root:RV = -0.39 +/- 0.080\n"
     ]
    },
    {
     "name": "stdout",
     "output_type": "stream",
     "text": [
      "\n",
      "File 90/120: ../20140120/HIP_44127.fits\n",
      "Warning, 1337 of 684208 bins contained negative fluxes; they have been set to zero.\n",
      "Warning, 1337 of 684208 bins contained negative fluxes; they have been set to zero.\n",
      "O2 Fit:\n",
      "================"
     ]
    },
    {
     "name": "stderr",
     "output_type": "stream",
     "text": [
      "INFO:root:RV = -0.74 +/- 0.058\n"
     ]
    },
    {
     "name": "stdout",
     "output_type": "stream",
     "text": [
      "\n",
      "\n",
      "\n",
      "H2O Fit:\n",
      "==============="
     ]
    },
    {
     "name": "stderr",
     "output_type": "stream",
     "text": [
      "INFO:root:RV = -0.46 +/- 0.051\n"
     ]
    },
    {
     "name": "stdout",
     "output_type": "stream",
     "text": [
      "\n",
      "File 91/120: ../20140120/HIP_50303.fits\n",
      "Warning, 1337 of 684208 bins contained negative fluxes; they have been set to zero.\n",
      "Warning, 1337 of 684208 bins contained negative fluxes; they have been set to zero.\n",
      "O2 Fit:\n",
      "================"
     ]
    },
    {
     "name": "stderr",
     "output_type": "stream",
     "text": [
      "INFO:root:RV = -0.71 +/- 0.107\n"
     ]
    },
    {
     "name": "stdout",
     "output_type": "stream",
     "text": [
      "\n",
      "\n",
      "\n",
      "H2O Fit:\n",
      "==============="
     ]
    },
    {
     "name": "stderr",
     "output_type": "stream",
     "text": [
      "INFO:root:RV = -0.38 +/- 0.123\n"
     ]
    },
    {
     "name": "stdout",
     "output_type": "stream",
     "text": [
      "\n",
      "File 92/120: ../20140120/HIP_51685.fits\n",
      "Warning, 1337 of 684208 bins contained negative fluxes; they have been set to zero.\n",
      "Warning, 1337 of 684208 bins contained negative fluxes; they have been set to zero.\n",
      "O2 Fit:\n",
      "================"
     ]
    },
    {
     "name": "stderr",
     "output_type": "stream",
     "text": [
      "INFO:root:RV = -0.75 +/- 0.044\n"
     ]
    },
    {
     "name": "stdout",
     "output_type": "stream",
     "text": [
      "\n",
      "\n",
      "\n",
      "H2O Fit:\n",
      "==============="
     ]
    },
    {
     "name": "stderr",
     "output_type": "stream",
     "text": [
      "INFO:root:RV = -0.49 +/- 0.051\n"
     ]
    },
    {
     "name": "stdout",
     "output_type": "stream",
     "text": [
      "\n",
      "File 93/120: ../20140120/HIP_65728.fits\n",
      "Warning, 1337 of 684208 bins contained negative fluxes; they have been set to zero.\n",
      "Warning, 1337 of 684208 bins contained negative fluxes; they have been set to zero.\n",
      "O2 Fit:\n",
      "================"
     ]
    },
    {
     "name": "stderr",
     "output_type": "stream",
     "text": [
      "INFO:root:RV = -0.65 +/- 0.054\n"
     ]
    },
    {
     "name": "stdout",
     "output_type": "stream",
     "text": [
      "\n",
      "\n",
      "\n",
      "H2O Fit:\n",
      "==============="
     ]
    },
    {
     "name": "stderr",
     "output_type": "stream",
     "text": [
      "INFO:root:RV = -0.34 +/- 0.045\n"
     ]
    },
    {
     "name": "stdout",
     "output_type": "stream",
     "text": [
      "\n",
      "File 94/120: ../20140121/HIP_16340.fits\n",
      "Warning, 1337 of 684208 bins contained negative fluxes; they have been set to zero.\n",
      "Warning, 1337 of 684208 bins contained negative fluxes; they have been set to zero.\n",
      "O2 Fit:\n",
      "================"
     ]
    },
    {
     "name": "stderr",
     "output_type": "stream",
     "text": [
      "INFO:root:RV = -0.67 +/- 0.097\n"
     ]
    },
    {
     "name": "stdout",
     "output_type": "stream",
     "text": [
      "\n",
      "\n",
      "\n",
      "H2O Fit:\n",
      "==============="
     ]
    },
    {
     "name": "stderr",
     "output_type": "stream",
     "text": [
      "INFO:root:RV = -0.30 +/- 0.093\n"
     ]
    },
    {
     "name": "stdout",
     "output_type": "stream",
     "text": [
      "\n",
      "File 95/120: ../20140121/HIP_18141.fits\n",
      "Warning, 1337 of 684208 bins contained negative fluxes; they have been set to zero.\n",
      "Warning, 1337 of 684208 bins contained negative fluxes; they have been set to zero.\n",
      "O2 Fit:\n",
      "================"
     ]
    },
    {
     "name": "stderr",
     "output_type": "stream",
     "text": [
      "INFO:root:RV = -0.61 +/- 0.045\n"
     ]
    },
    {
     "name": "stdout",
     "output_type": "stream",
     "text": [
      "\n",
      "\n",
      "\n",
      "H2O Fit:\n",
      "==============="
     ]
    },
    {
     "name": "stderr",
     "output_type": "stream",
     "text": [
      "INFO:root:RV = -0.31 +/- 0.044\n"
     ]
    },
    {
     "name": "stdout",
     "output_type": "stream",
     "text": [
      "\n",
      "File 96/120: ../20140121/HIP_22840.fits\n",
      "Warning, 1337 of 684208 bins contained negative fluxes; they have been set to zero.\n",
      "Warning, 1337 of 684208 bins contained negative fluxes; they have been set to zero.\n",
      "O2 Fit:\n",
      "================"
     ]
    },
    {
     "name": "stderr",
     "output_type": "stream",
     "text": [
      "INFO:root:RV = -0.69 +/- 0.115\n"
     ]
    },
    {
     "name": "stdout",
     "output_type": "stream",
     "text": [
      "\n",
      "\n",
      "\n",
      "H2O Fit:\n",
      "==============="
     ]
    },
    {
     "name": "stderr",
     "output_type": "stream",
     "text": [
      "INFO:root:RV = -0.34 +/- 0.111\n"
     ]
    },
    {
     "name": "stdout",
     "output_type": "stream",
     "text": [
      "\n",
      "File 97/120: ../20140121/HIP_33372.fits\n",
      "Warning, 1337 of 684208 bins contained negative fluxes; they have been set to zero.\n",
      "Warning, 1337 of 684208 bins contained negative fluxes; they have been set to zero.\n",
      "O2 Fit:\n",
      "================"
     ]
    },
    {
     "name": "stderr",
     "output_type": "stream",
     "text": [
      "INFO:root:RV = -0.77 +/- 0.088\n"
     ]
    },
    {
     "name": "stdout",
     "output_type": "stream",
     "text": [
      "\n",
      "\n",
      "\n",
      "H2O Fit:\n",
      "==============="
     ]
    },
    {
     "name": "stderr",
     "output_type": "stream",
     "text": [
      "INFO:root:RV = -0.34 +/- 0.084\n"
     ]
    },
    {
     "name": "stdout",
     "output_type": "stream",
     "text": [
      "\n",
      "File 98/120: ../20140121/HIP_50860.fits\n",
      "Warning, 1337 of 684208 bins contained negative fluxes; they have been set to zero.\n",
      "Warning, 1337 of 684208 bins contained negative fluxes; they have been set to zero.\n",
      "O2 Fit:\n",
      "================"
     ]
    },
    {
     "name": "stderr",
     "output_type": "stream",
     "text": [
      "INFO:root:RV = -0.28 +/- 0.267\n"
     ]
    },
    {
     "name": "stdout",
     "output_type": "stream",
     "text": [
      "\n",
      "\n",
      "\n",
      "H2O Fit:\n",
      "==============="
     ]
    },
    {
     "name": "stderr",
     "output_type": "stream",
     "text": [
      "INFO:root:RV = -0.16 +/- 0.230\n"
     ]
    },
    {
     "name": "stdout",
     "output_type": "stream",
     "text": [
      "\n",
      "File 99/120: ../20140121/HIP_60957.fits\n",
      "Warning, 1337 of 684208 bins contained negative fluxes; they have been set to zero.\n",
      "Warning, 1337 of 684208 bins contained negative fluxes; they have been set to zero.\n",
      "O2 Fit:\n",
      "================"
     ]
    },
    {
     "name": "stderr",
     "output_type": "stream",
     "text": [
      "INFO:root:RV = -0.71 +/- 0.211\n"
     ]
    },
    {
     "name": "stdout",
     "output_type": "stream",
     "text": [
      "\n",
      "\n",
      "\n",
      "H2O Fit:\n",
      "==============="
     ]
    },
    {
     "name": "stderr",
     "output_type": "stream",
     "text": [
      "INFO:root:RV = -0.26 +/- 0.218\n"
     ]
    },
    {
     "name": "stdout",
     "output_type": "stream",
     "text": [
      "\n",
      "File 100/120: ../20140121/HIP_75178.fits\n",
      "Warning, 1337 of 684208 bins contained negative fluxes; they have been set to zero.\n",
      "Warning, 1337 of 684208 bins contained negative fluxes; they have been set to zero.\n",
      "O2 Fit:\n",
      "================"
     ]
    },
    {
     "name": "stderr",
     "output_type": "stream",
     "text": [
      "INFO:root:RV = -0.51 +/- 0.093\n"
     ]
    },
    {
     "name": "stdout",
     "output_type": "stream",
     "text": [
      "\n",
      "\n",
      "\n",
      "H2O Fit:\n",
      "==============="
     ]
    },
    {
     "name": "stderr",
     "output_type": "stream",
     "text": [
      "INFO:root:RV = -0.15 +/- 0.077\n"
     ]
    },
    {
     "name": "stdout",
     "output_type": "stream",
     "text": [
      "\n",
      "File 101/120: ../20140122/HIP_14764.fits\n",
      "Warning, 1337 of 684208 bins contained negative fluxes; they have been set to zero.\n",
      "Warning, 1337 of 684208 bins contained negative fluxes; they have been set to zero.\n",
      "O2 Fit:\n",
      "================"
     ]
    },
    {
     "name": "stderr",
     "output_type": "stream",
     "text": [
      "INFO:root:RV = -0.75 +/- 0.106\n"
     ]
    },
    {
     "name": "stdout",
     "output_type": "stream",
     "text": [
      "\n",
      "\n",
      "\n",
      "H2O Fit:\n",
      "==============="
     ]
    },
    {
     "name": "stderr",
     "output_type": "stream",
     "text": [
      "INFO:root:RV = -0.43 +/- 0.111\n"
     ]
    },
    {
     "name": "stdout",
     "output_type": "stream",
     "text": [
      "\n",
      "File 102/120: ../20140122/HIP_21819.fits\n",
      "Warning, 1337 of 684208 bins contained negative fluxes; they have been set to zero.\n",
      "Warning, 1337 of 684208 bins contained negative fluxes; they have been set to zero.\n",
      "O2 Fit:\n",
      "================"
     ]
    },
    {
     "name": "stderr",
     "output_type": "stream",
     "text": [
      "INFO:root:RV = -0.72 +/- 0.118\n"
     ]
    },
    {
     "name": "stdout",
     "output_type": "stream",
     "text": [
      "\n",
      "\n",
      "\n",
      "H2O Fit:\n",
      "==============="
     ]
    },
    {
     "name": "stderr",
     "output_type": "stream",
     "text": [
      "INFO:root:RV = -0.33 +/- 0.114\n"
     ]
    },
    {
     "name": "stdout",
     "output_type": "stream",
     "text": [
      "\n",
      "File 103/120: ../20140122/HIP_22833.fits\n",
      "Warning, 1337 of 684208 bins contained negative fluxes; they have been set to zero.\n",
      "Warning, 1337 of 684208 bins contained negative fluxes; they have been set to zero.\n",
      "O2 Fit:\n",
      "================"
     ]
    },
    {
     "name": "stderr",
     "output_type": "stream",
     "text": [
      "INFO:root:RV = -0.68 +/- 0.057\n"
     ]
    },
    {
     "name": "stdout",
     "output_type": "stream",
     "text": [
      "\n",
      "\n",
      "\n",
      "H2O Fit:\n",
      "==============="
     ]
    },
    {
     "name": "stderr",
     "output_type": "stream",
     "text": [
      "INFO:root:RV = -0.32 +/- 0.056\n"
     ]
    },
    {
     "name": "stdout",
     "output_type": "stream",
     "text": [
      "\n",
      "File 104/120: ../20140122/HIP_29997.fits\n",
      "Warning, 1337 of 684208 bins contained negative fluxes; they have been set to zero.\n",
      "Warning, 1337 of 684208 bins contained negative fluxes; they have been set to zero.\n",
      "O2 Fit:\n",
      "================"
     ]
    },
    {
     "name": "stderr",
     "output_type": "stream",
     "text": [
      "INFO:root:RV = -0.57 +/- 0.029\n"
     ]
    },
    {
     "name": "stdout",
     "output_type": "stream",
     "text": [
      "\n",
      "\n",
      "\n",
      "H2O Fit:\n",
      "==============="
     ]
    },
    {
     "name": "stderr",
     "output_type": "stream",
     "text": [
      "INFO:root:RV = -0.19 +/- 0.028\n"
     ]
    },
    {
     "name": "stdout",
     "output_type": "stream",
     "text": [
      "\n",
      "File 105/120: ../20140122/HIP_39236.fits\n",
      "Warning, 1337 of 684208 bins contained negative fluxes; they have been set to zero.\n",
      "Warning, 1337 of 684208 bins contained negative fluxes; they have been set to zero.\n",
      "O2 Fit:\n",
      "================"
     ]
    },
    {
     "name": "stderr",
     "output_type": "stream",
     "text": [
      "INFO:root:RV = -0.60 +/- 0.063\n"
     ]
    },
    {
     "name": "stdout",
     "output_type": "stream",
     "text": [
      "\n",
      "\n",
      "\n",
      "H2O Fit:\n",
      "==============="
     ]
    },
    {
     "name": "stderr",
     "output_type": "stream",
     "text": [
      "INFO:root:RV = -0.23 +/- 0.060\n"
     ]
    },
    {
     "name": "stdout",
     "output_type": "stream",
     "text": [
      "\n",
      "File 106/120: ../20140122/HIP_46225.fits\n",
      "Warning, 1337 of 684208 bins contained negative fluxes; they have been set to zero.\n",
      "Warning, 1337 of 684208 bins contained negative fluxes; they have been set to zero.\n",
      "O2 Fit:\n",
      "================"
     ]
    },
    {
     "name": "stderr",
     "output_type": "stream",
     "text": [
      "INFO:root:RV = -0.60 +/- 0.133\n"
     ]
    },
    {
     "name": "stdout",
     "output_type": "stream",
     "text": [
      "\n",
      "\n",
      "\n",
      "H2O Fit:\n",
      "==============="
     ]
    },
    {
     "name": "stderr",
     "output_type": "stream",
     "text": [
      "INFO:root:RV = -0.24 +/- 0.119\n"
     ]
    },
    {
     "name": "stdout",
     "output_type": "stream",
     "text": [
      "\n",
      "File 107/120: ../20140123/HIP_35341.fits\n",
      "Warning, 1337 of 684208 bins contained negative fluxes; they have been set to zero.\n",
      "Warning, 1337 of 684208 bins contained negative fluxes; they have been set to zero.\n",
      "O2 Fit:\n",
      "================"
     ]
    },
    {
     "name": "stderr",
     "output_type": "stream",
     "text": [
      "INFO:root:RV = -0.61 +/- 0.054\n"
     ]
    },
    {
     "name": "stdout",
     "output_type": "stream",
     "text": [
      "\n",
      "\n",
      "\n",
      "H2O Fit:\n",
      "==============="
     ]
    },
    {
     "name": "stderr",
     "output_type": "stream",
     "text": [
      "INFO:root:RV = -0.38 +/- 0.085\n"
     ]
    },
    {
     "name": "stdout",
     "output_type": "stream",
     "text": [
      "\n",
      "File 108/120: ../20140124/HIP_13879.fits\n",
      "Warning, 1337 of 684208 bins contained negative fluxes; they have been set to zero.\n",
      "Warning, 1337 of 684208 bins contained negative fluxes; they have been set to zero.\n",
      "O2 Fit:\n",
      "================"
     ]
    },
    {
     "name": "stderr",
     "output_type": "stream",
     "text": [
      "INFO:root:RV = -0.67 +/- nan\n",
      "INFO:root:RV = -0.42 +/- nan\n"
     ]
    },
    {
     "name": "stdout",
     "output_type": "stream",
     "text": [
      "\n",
      "\n",
      "\n",
      "H2O Fit:\n",
      "===============\n",
      "File 109/120: ../20140124/HIP_42313.fits\n",
      "Warning, 1337 of 684208 bins contained negative fluxes; they have been set to zero.\n",
      "Warning, 1337 of 684208 bins contained negative fluxes; they have been set to zero.\n",
      "O2 Fit:\n",
      "================"
     ]
    },
    {
     "name": "stderr",
     "output_type": "stream",
     "text": [
      "INFO:root:RV = -0.82 +/- 0.111\n"
     ]
    },
    {
     "name": "stdout",
     "output_type": "stream",
     "text": [
      "\n",
      "\n",
      "\n",
      "H2O Fit:\n",
      "==============="
     ]
    },
    {
     "name": "stderr",
     "output_type": "stream",
     "text": [
      "INFO:root:RV = -0.55 +/- 0.092\n"
     ]
    },
    {
     "name": "stdout",
     "output_type": "stream",
     "text": [
      "\n",
      "File 110/120: ../20140124/HIP_70327.fits\n",
      "Warning, 1337 of 684208 bins contained negative fluxes; they have been set to zero.\n",
      "Warning, 1337 of 684208 bins contained negative fluxes; they have been set to zero.\n",
      "O2 Fit:\n",
      "================"
     ]
    },
    {
     "name": "stderr",
     "output_type": "stream",
     "text": [
      "INFO:root:RV = -0.77 +/- nan\n",
      "INFO:root:RV = -0.50 +/- inf\n"
     ]
    },
    {
     "name": "stdout",
     "output_type": "stream",
     "text": [
      "\n",
      "\n",
      "\n",
      "H2O Fit:\n",
      "===============\n",
      "File 111/120: ../20141101/HIP_106786.fits\n",
      "Warning, 1337 of 684208 bins contained negative fluxes; they have been set to zero.\n",
      "Warning, 1337 of 684208 bins contained negative fluxes; they have been set to zero.\n",
      "O2 Fit:\n",
      "================"
     ]
    },
    {
     "name": "stderr",
     "output_type": "stream",
     "text": [
      "INFO:root:RV = -0.50 +/- 0.013\n"
     ]
    },
    {
     "name": "stdout",
     "output_type": "stream",
     "text": [
      "\n",
      "\n",
      "\n",
      "H2O Fit:\n",
      "==============="
     ]
    },
    {
     "name": "stderr",
     "output_type": "stream",
     "text": [
      "INFO:root:RV = -0.24 +/- 0.009\n"
     ]
    },
    {
     "name": "stdout",
     "output_type": "stream",
     "text": [
      "\n",
      "File 112/120: ../20141101/HIP_109521.fits\n",
      "Warning, 1337 of 684208 bins contained negative fluxes; they have been set to zero.\n",
      "Warning, 1337 of 684208 bins contained negative fluxes; they have been set to zero.\n",
      "O2 Fit:\n",
      "================"
     ]
    },
    {
     "name": "stderr",
     "output_type": "stream",
     "text": [
      "INFO:root:RV = -0.86 +/- 0.213\n"
     ]
    },
    {
     "name": "stdout",
     "output_type": "stream",
     "text": [
      "\n",
      "\n",
      "\n",
      "H2O Fit:\n",
      "==============="
     ]
    },
    {
     "name": "stderr",
     "output_type": "stream",
     "text": [
      "INFO:root:RV = -0.47 +/- 0.198\n"
     ]
    },
    {
     "name": "stdout",
     "output_type": "stream",
     "text": [
      "\n",
      "File 113/120: ../20141101/HIP_116631.fits\n",
      "Warning, 1337 of 684208 bins contained negative fluxes; they have been set to zero.\n",
      "Warning, 1337 of 684208 bins contained negative fluxes; they have been set to zero.\n",
      "O2 Fit:\n",
      "================"
     ]
    },
    {
     "name": "stderr",
     "output_type": "stream",
     "text": [
      "INFO:root:RV = -0.84 +/- 0.170\n"
     ]
    },
    {
     "name": "stdout",
     "output_type": "stream",
     "text": [
      "\n",
      "\n",
      "\n",
      "H2O Fit:\n",
      "==============="
     ]
    },
    {
     "name": "stderr",
     "output_type": "stream",
     "text": [
      "INFO:root:RV = -0.46 +/- 0.114\n"
     ]
    },
    {
     "name": "stdout",
     "output_type": "stream",
     "text": [
      "\n",
      "File 114/120: ../20141101/HIP_21589.fits\n",
      "Warning, 1337 of 684208 bins contained negative fluxes; they have been set to zero.\n",
      "Warning, 1337 of 684208 bins contained negative fluxes; they have been set to zero.\n",
      "O2 Fit:\n",
      "================"
     ]
    },
    {
     "name": "stderr",
     "output_type": "stream",
     "text": [
      "INFO:root:RV = -0.82 +/- 0.033\n"
     ]
    },
    {
     "name": "stdout",
     "output_type": "stream",
     "text": [
      "\n",
      "\n",
      "\n",
      "H2O Fit:\n",
      "==============="
     ]
    },
    {
     "name": "stderr",
     "output_type": "stream",
     "text": [
      "INFO:root:RV = -0.44 +/- 0.022\n"
     ]
    },
    {
     "name": "stdout",
     "output_type": "stream",
     "text": [
      "\n",
      "File 115/120: ../20141101/HIP_21683.fits\n",
      "Warning, 1337 of 684208 bins contained negative fluxes; they have been set to zero.\n",
      "Warning, 1337 of 684208 bins contained negative fluxes; they have been set to zero.\n",
      "O2 Fit:\n",
      "================"
     ]
    },
    {
     "name": "stderr",
     "output_type": "stream",
     "text": [
      "INFO:root:RV = -0.74 +/- 0.082\n"
     ]
    },
    {
     "name": "stdout",
     "output_type": "stream",
     "text": [
      "\n",
      "\n",
      "\n",
      "H2O Fit:\n",
      "==============="
     ]
    },
    {
     "name": "stderr",
     "output_type": "stream",
     "text": [
      "INFO:root:RV = -0.35 +/- 0.084\n"
     ]
    },
    {
     "name": "stdout",
     "output_type": "stream",
     "text": [
      "\n",
      "File 116/120: ../20141101/HIP_2505.fits\n",
      "Warning, 1337 of 684208 bins contained negative fluxes; they have been set to zero.\n",
      "Warning, 1337 of 684208 bins contained negative fluxes; they have been set to zero.\n",
      "O2 Fit:\n",
      "================"
     ]
    },
    {
     "name": "stderr",
     "output_type": "stream",
     "text": [
      "INFO:root:RV = -0.81 +/- 0.060\n"
     ]
    },
    {
     "name": "stdout",
     "output_type": "stream",
     "text": [
      "\n",
      "\n",
      "\n",
      "H2O Fit:\n",
      "==============="
     ]
    },
    {
     "name": "stderr",
     "output_type": "stream",
     "text": [
      "INFO:root:RV = -0.40 +/- 0.083\n"
     ]
    },
    {
     "name": "stdout",
     "output_type": "stream",
     "text": [
      "\n",
      "File 117/120: ../20141101/HIP_93225.fits\n",
      "Warning, 1337 of 684208 bins contained negative fluxes; they have been set to zero.\n",
      "Warning, 1337 of 684208 bins contained negative fluxes; they have been set to zero.\n",
      "O2 Fit:\n",
      "================"
     ]
    },
    {
     "name": "stderr",
     "output_type": "stream",
     "text": [
      "INFO:root:RV = -0.44 +/- 0.097\n"
     ]
    },
    {
     "name": "stdout",
     "output_type": "stream",
     "text": [
      "\n",
      "\n",
      "\n",
      "H2O Fit:\n",
      "==============="
     ]
    },
    {
     "name": "stderr",
     "output_type": "stream",
     "text": [
      "INFO:root:RV = -0.18 +/- 0.097\n"
     ]
    },
    {
     "name": "stdout",
     "output_type": "stream",
     "text": [
      "\n",
      "File 118/120: ../20141102/HIP_17527.fits\n",
      "Warning, 1337 of 684208 bins contained negative fluxes; they have been set to zero.\n",
      "Warning, 1337 of 684208 bins contained negative fluxes; they have been set to zero.\n",
      "O2 Fit:\n",
      "================"
     ]
    },
    {
     "name": "stderr",
     "output_type": "stream",
     "text": [
      "INFO:root:RV = -0.65 +/- 0.026\n"
     ]
    },
    {
     "name": "stdout",
     "output_type": "stream",
     "text": [
      "\n",
      "\n",
      "\n",
      "H2O Fit:\n",
      "==============="
     ]
    },
    {
     "name": "stderr",
     "output_type": "stream",
     "text": [
      "INFO:root:RV = -0.34 +/- 0.042\n"
     ]
    },
    {
     "name": "stdout",
     "output_type": "stream",
     "text": [
      "\n",
      "File 119/120: ../20141102/HIP_3478.fits\n",
      "Warning, 1337 of 684208 bins contained negative fluxes; they have been set to zero.\n",
      "Warning, 1337 of 684208 bins contained negative fluxes; they have been set to zero.\n",
      "O2 Fit:\n",
      "================"
     ]
    },
    {
     "name": "stderr",
     "output_type": "stream",
     "text": [
      "INFO:root:RV = -0.77 +/- 0.045\n"
     ]
    },
    {
     "name": "stdout",
     "output_type": "stream",
     "text": [
      "\n",
      "\n",
      "\n",
      "H2O Fit:\n",
      "==============="
     ]
    },
    {
     "name": "stderr",
     "output_type": "stream",
     "text": [
      "INFO:root:RV = -0.45 +/- 0.053\n"
     ]
    },
    {
     "name": "stdout",
     "output_type": "stream",
     "text": [
      "\n",
      "File 120/120: ../20141103/HIP_3881.fits\n",
      "Warning, 1337 of 684208 bins contained negative fluxes; they have been set to zero.\n",
      "Warning, 1337 of 684208 bins contained negative fluxes; they have been set to zero.\n",
      "O2 Fit:\n",
      "================"
     ]
    },
    {
     "name": "stderr",
     "output_type": "stream",
     "text": [
      "INFO:root:RV = -0.68 +/- 0.059\n"
     ]
    },
    {
     "name": "stdout",
     "output_type": "stream",
     "text": [
      "\n",
      "\n",
      "\n",
      "H2O Fit:\n",
      "==============="
     ]
    },
    {
     "name": "stderr",
     "output_type": "stream",
     "text": [
      "INFO:root:RV = -0.36 +/- 0.070\n"
     ]
    },
    {
     "name": "stdout",
     "output_type": "stream",
     "text": [
      "\n"
     ]
    }
   ],
   "source": [
    "with open('telluric_wavecal_summary.csv', 'w') as f:\n",
    "    f.write('filename,o2_rv,o2_rv_err,h2o_rv,h2o_rv_err\\n')\n",
    "\n",
    "for i, fname in enumerate(fnames):\n",
    "    print('File {}/{}: {}'.format(i+1, len(fnames), fname))\n",
    "    o2_fitter = Telluric_Wavecal.VelocityFitter(fname, tell_orders=(690.,), telluric_model=full_model)\n",
    "    h2o_fitter = Telluric_Wavecal.VelocityFitter(fname, tell_orders=(700., 715., 730.), telluric_model=full_model)\n",
    "    \n",
    "    print('O2 Fit:\\n================')\n",
    "    o2_rv, o2_rv_err = o2_fitter.fit()\n",
    "    print('\\n\\nH2O Fit:\\n===============')\n",
    "    h2o_rv, h2o_rv_err = h2o_fitter.fit()\n",
    "    \n",
    "    with open('telluric_wavecal_summary.csv', 'a') as f:\n",
    "        f.write('{},{},{},{},{}\\n'.format(fname, o2_rv, o2_rv_err, h2o_rv, h2o_rv_err))"
   ]
  },
  {
   "cell_type": "code",
   "execution_count": 34,
   "metadata": {
    "collapsed": false
   },
   "outputs": [
    {
     "data": {
      "text/plain": [
       "<matplotlib.axes._subplots.AxesSubplot at 0x7fcfe2698a10>"
      ]
     },
     "execution_count": 34,
     "metadata": {},
     "output_type": "execute_result"
    },
    {
     "data": {
      "image/png": "[encoded data removed]",
      "text/plain": [
       "<matplotlib.figure.Figure at 0x7fcfe26a50d0>"
      ]
     },
     "metadata": {},
     "output_type": "display_data"
    }
   ],
   "source": [
    "import pandas as pd\n",
    "df = pd.read_csv('telluric_wavecal_summary.csv')\n",
    "df.o2_rv.hist(bins=30)"
   ]
  },
  {
   "cell_type": "code",
   "execution_count": 35,
   "metadata": {
    "collapsed": false
   },
   "outputs": [
    {
     "data": {
      "text/plain": [
       "<matplotlib.axes._subplots.AxesSubplot at 0x7fcfdcb3c950>"
      ]
     },
     "execution_count": 35,
     "metadata": {},
     "output_type": "execute_result"
    },
    {
     "data": {
      "image/png": "[encoded data removed]",
      "text/plain": [
       "<matplotlib.figure.Figure at 0x7fcfe1228e90>"
      ]
     },
     "metadata": {},
     "output_type": "display_data"
    }
   ],
   "source": [
    "df.h2o_rv.hist(bins=20)"
   ]
  },
  {
   "cell_type": "code",
   "execution_count": 25,
   "metadata": {
    "collapsed": false
   },
   "outputs": [
    {
     "data": {
      "text/plain": [
       "[<matplotlib.lines.Line2D at 0x7fb896294ad0>]"
      ]
     },
     "execution_count": 25,
     "metadata": {},
     "output_type": "execute_result"
    },
    {
     "data": {
      "image/png": "[encoded data removed]",
      "text/plain": [
       "<matplotlib.figure.Figure at 0x7fb89653f350>"
      ]
     },
     "metadata": {},
     "output_type": "display_data"
    }
   ],
   "source": [
    "import scipy.stats\n",
    "values = df.h2o_rv\n",
    "loc, scale = scipy.stats.norm.fit(data=values[~np.isnan(values)])\n",
    "df.h2o_rv.hist(bins=10, normed=True, alpha=0.4)\n",
    "x = np.arange(-0.2, 0.3, 0.01)\n",
    "y = scipy.stats.norm.pdf(x, loc=loc, scale=scale)\n",
    "plt.plot(x, y, 'r-', lw=2)"
   ]
  },
  {
   "cell_type": "code",
   "execution_count": 26,
   "metadata": {
    "collapsed": false
   },
   "outputs": [
    {
     "name": "stdout",
     "output_type": "stream",
     "text": [
      "55\n",
      "(683.05213119143082, 694.06829395818613)\n",
      "(696.99142286661333, 708.23179628605158)\n",
      "(711.51142568514979, 722.98535037882675)\n",
      "(726.64920786127971, 738.36661986523609)\n"
     ]
    },
    {
     "data": {
      "image/png": "[encoded data removed]",
      "text/plain": [
       "<matplotlib.figure.Figure at 0x7fcfe13321d0>"
      ]
     },
     "metadata": {},
     "output_type": "display_data"
    }
   ],
   "source": [
    "orders = HelperFunctions.ReadExtensionFits('../20140110/KG13385-0.fits')\n",
    "print(len(orders))\n",
    "%matplotlib inline\n",
    "fig = plt.figure(figsize=(15,7))\n",
    "ordernums = HelperFunctions.FindOrderNums(orders, (690., 700., 715., 730.))\n",
    "\n",
    "for order in orders:\n",
    "    plt.plot(order.x, order.y/order.cont, 'k-', alpha=0.5)\n",
    "    \n",
    "    \n",
    "for order in [orders[n] for n in ordernums]:\n",
    "    plt.plot(order.x, order.y/order.cont, 'r-', alpha=0.5)\n",
    "    print(order.x[0], order.x[-1])"
   ]
  },
  {
   "cell_type": "code",
   "execution_count": null,
   "metadata": {
    "collapsed": true
   },
   "outputs": [],
   "source": []
  }
 ],
 "metadata": {
  "kernelspec": {
   "display_name": "Python 2",
   "language": "python",
   "name": "python2"
  },
  "language_info": {
   "codemirror_mode": {
    "name": "ipython",
    "version": 2
   },
   "file_extension": ".py",
   "mimetype": "text/x-python",
   "name": "python",
   "nbconvert_exporter": "python",
   "pygments_lexer": "ipython2",
   "version": "2.7.10"
  }
 },
 "nbformat": 4,
 "nbformat_minor": 0
}
